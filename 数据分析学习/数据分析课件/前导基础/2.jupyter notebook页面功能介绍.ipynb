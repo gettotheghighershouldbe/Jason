{
 "cells": [
  {
   "cell_type": "markdown",
   "metadata": {},
   "source": [
    "# Jupyter notebook页面功能介绍"
   ]
  },
  {
   "cell_type": "markdown",
   "metadata": {},
   "source": [
    "![](../pictures/Jupyter notebook页面功能介绍.png)"
   ]
  },
  {
   "cell_type": "markdown",
   "metadata": {},
   "source": [
    "## 文件管理页面\n",
    "\n",
    "文件管理页面默认处于预设的工作目录: 如果不进行配置, 一般是在当前Windows 登陆的账户的个人文件夹 例如C:/Users/Adminastrator\n",
    "\n",
    "1. Files: 管理工作目录下的文件\n",
    "    1. Duplicat 复制一个副本\n",
    "    2. Rename 重命名\n",
    "    3. Move 移动\n",
    "    4. Download 下载到本地\n",
    "    5. Shutdown 停止运行\n",
    "    \n",
    "2. New 新建文件\n",
    "    1. Python[Default] 新建python文件\n",
    "    2. Text File 新建文本文件\n",
    "    3. Folder 新建文件夹\n",
    "   \n",
    "3. Upload 上传文件\n",
    "\n",
    "4. Running 正在运行文件\n",
    "\n",
    "5. Conda 运行环境及安装包管理"
   ]
  },
  {
   "cell_type": "code",
   "execution_count": null,
   "metadata": {},
   "outputs": [],
   "source": []
  },
  {
   "cell_type": "code",
   "execution_count": null,
   "metadata": {
    "collapsed": true
   },
   "outputs": [],
   "source": []
  },
  {
   "cell_type": "markdown",
   "metadata": {},
   "source": [
    "## 代码编辑页面"
   ]
  },
  {
   "cell_type": "markdown",
   "metadata": {
    "collapsed": true
   },
   "source": [
    "File : \n",
    "\n",
    "1. New Notebook 新建文件\n",
    "2. Open: 打开文件管理页面\n",
    "3. Make a copy 复制一个相同的当前文件\n",
    "4. Save 保存\n",
    "5. Revert to Checkpoint 返回上一个保存节点\n",
    "6. Print Preview 打印预览\n",
    "7. Download as 下载文件\n",
    "8. Close and Halt 关闭"
   ]
  },
  {
   "cell_type": "markdown",
   "metadata": {},
   "source": [
    "File : \n",
    "\n",
    "1. New Notebook 新建文件\n",
    "2. Open: 打开文件管理页面\n",
    "3. Make a copy 复制一个相同的当前文件\n",
    "4. Save 保存\n",
    "5. Revert to Checkpoint 返回上一个保存节点\n",
    "6. Print Preview 打印预览\n",
    "7. Download as 下载文件\n",
    "8. Close and Halt 关闭"
   ]
  },
  {
   "cell_type": "code",
   "execution_count": null,
   "metadata": {
    "collapsed": true
   },
   "outputs": [],
   "source": []
  },
  {
   "cell_type": "code",
   "execution_count": null,
   "metadata": {
    "collapsed": true
   },
   "outputs": [],
   "source": []
  },
  {
   "cell_type": "markdown",
   "metadata": {
    "collapsed": true
   },
   "source": [
    "- Edit: 编辑单元格相关功能\n",
    "- View: 视图功能, 显示哪一部分\n",
    "- Insert: 插入新的单元格\n",
    "- Cell: 运行代码相关功能\n",
    "- Kernel: 重启, 断开内核等功能\n",
    "- Help: 帮助文档"
   ]
  },
  {
   "cell_type": "code",
   "execution_count": null,
   "metadata": {
    "collapsed": true
   },
   "outputs": [],
   "source": []
  },
  {
   "cell_type": "markdown",
   "metadata": {
    "collapsed": true
   },
   "source": [
    "## Jupyter notebook快捷键的使用"
   ]
  },
  {
   "cell_type": "markdown",
   "metadata": {
    "collapsed": true
   },
   "source": [
    "首先, notebook快捷键主要借鉴Vim编辑器快捷键, 比较复杂, 记忆量很大, 和Vim一样分为两种模式:编辑模式和命令模式:\n",
    "1. 编辑模式: 编辑模式下, 可以输入内容\n",
    "2. 命令模式: 命令模式下,各种按键会作为各种功能的快捷键, 所以如果你按键之后出现莫名其妙的反应, 检查自己是不是处于命令模式. \n",
    "\n",
    "在学习编程之前, 咱们对自己将要使用的工具还是要有一定程度的了解, 对于提升生产力很有帮助!"
   ]
  },
  {
   "cell_type": "markdown",
   "metadata": {
    "collapsed": true
   },
   "source": [
    "1. 运行代码 3个快捷键 不要求都了解, 找一两个习惯的使用就可以 Ctrl + Enter Shift + Enter  Alt + Enter\n",
    "2. 插入快捷键2个 A: above 在上方插入单元格  B: Below 在下方插入单元格\n",
    "3. 剪切快捷键一个\n",
    "4. 删除快捷键不需要\n",
    "5. 粘贴快捷键 v\n",
    "6. 快捷键M : 切换到Markdown格式, 快捷键Y : 切换到Code格式"
   ]
  },
  {
   "cell_type": "markdown",
   "metadata": {
    "collapsed": true
   },
   "source": [
    "a = 1\n",
    "a"
   ]
  },
  {
   "cell_type": "code",
   "execution_count": null,
   "metadata": {
    "collapsed": true
   },
   "outputs": [],
   "source": []
  },
  {
   "cell_type": "code",
   "execution_count": null,
   "metadata": {
    "collapsed": true
   },
   "outputs": [],
   "source": [
    "吧"
   ]
  },
  {
   "cell_type": "code",
   "execution_count": null,
   "metadata": {
    "collapsed": true
   },
   "outputs": [],
   "source": [
    "吧"
   ]
  },
  {
   "cell_type": "code",
   "execution_count": null,
   "metadata": {
    "collapsed": true
   },
   "outputs": [],
   "source": [
    "吧"
   ]
  },
  {
   "cell_type": "code",
   "execution_count": null,
   "metadata": {
    "collapsed": true
   },
   "outputs": [],
   "source": [
    "吧"
   ]
  },
  {
   "cell_type": "code",
   "execution_count": null,
   "metadata": {
    "collapsed": true
   },
   "outputs": [],
   "source": [
    "吧"
   ]
  },
  {
   "cell_type": "code",
   "execution_count": null,
   "metadata": {
    "collapsed": true
   },
   "outputs": [],
   "source": [
    "吧"
   ]
  },
  {
   "cell_type": "code",
   "execution_count": null,
   "metadata": {
    "collapsed": true
   },
   "outputs": [],
   "source": []
  },
  {
   "cell_type": "code",
   "execution_count": null,
   "metadata": {
    "collapsed": true
   },
   "outputs": [],
   "source": []
  },
  {
   "cell_type": "code",
   "execution_count": null,
   "metadata": {
    "collapsed": true
   },
   "outputs": [],
   "source": []
  },
  {
   "cell_type": "code",
   "execution_count": null,
   "metadata": {
    "collapsed": true
   },
   "outputs": [],
   "source": []
  },
  {
   "cell_type": "code",
   "execution_count": null,
   "metadata": {
    "collapsed": true
   },
   "outputs": [],
   "source": []
  },
  {
   "cell_type": "code",
   "execution_count": null,
   "metadata": {
    "collapsed": true
   },
   "outputs": [],
   "source": []
  },
  {
   "cell_type": "code",
   "execution_count": null,
   "metadata": {
    "collapsed": true
   },
   "outputs": [],
   "source": []
  },
  {
   "cell_type": "code",
   "execution_count": null,
   "metadata": {
    "collapsed": true
   },
   "outputs": [],
   "source": []
  },
  {
   "cell_type": "code",
   "execution_count": null,
   "metadata": {
    "collapsed": true
   },
   "outputs": [],
   "source": []
  },
  {
   "cell_type": "code",
   "execution_count": null,
   "metadata": {
    "collapsed": true
   },
   "outputs": [],
   "source": []
  },
  {
   "cell_type": "code",
   "execution_count": null,
   "metadata": {
    "collapsed": true
   },
   "outputs": [],
   "source": []
  }
 ],
 "metadata": {
  "kernelspec": {
   "display_name": "Python [default]",
   "language": "python",
   "name": "python3"
  },
  "language_info": {
   "codemirror_mode": {
    "name": "ipython",
    "version": 3
   },
   "file_extension": ".py",
   "mimetype": "text/x-python",
   "name": "python",
   "nbconvert_exporter": "python",
   "pygments_lexer": "ipython3",
   "version": "3.5.4"
  },
  "toc": {
   "base_numbering": 1,
   "nav_menu": {},
   "number_sections": true,
   "sideBar": true,
   "skip_h1_title": true,
   "title_cell": "Table of Contents",
   "title_sidebar": "Contents",
   "toc_cell": false,
   "toc_position": {
    "height": "calc(100% - 180px)",
    "left": "10px",
    "top": "150px",
    "width": "199px"
   },
   "toc_section_display": true,
   "toc_window_display": true
  },
  "varInspector": {
   "cols": {
    "lenName": 16,
    "lenType": 16,
    "lenVar": 40
   },
   "kernels_config": {
    "python": {
     "delete_cmd_postfix": "",
     "delete_cmd_prefix": "del ",
     "library": "var_list.py",
     "varRefreshCmd": "print(var_dic_list())"
    },
    "r": {
     "delete_cmd_postfix": ") ",
     "delete_cmd_prefix": "rm(",
     "library": "var_list.r",
     "varRefreshCmd": "cat(var_dic_list()) "
    }
   },
   "types_to_exclude": [
    "module",
    "function",
    "builtin_function_or_method",
    "instance",
    "_Feature"
   ],
   "window_display": false
  }
 },
 "nbformat": 4,
 "nbformat_minor": 2
}
