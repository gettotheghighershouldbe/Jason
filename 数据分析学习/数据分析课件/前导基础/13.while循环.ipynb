{
 "cells": [
  {
   "cell_type": "markdown",
   "metadata": {},
   "source": [
    "# while循环"
   ]
  },
  {
   "cell_type": "markdown",
   "metadata": {},
   "source": [
    "![](../pictures/while循环.png)"
   ]
  },
  {
   "cell_type": "markdown",
   "metadata": {},
   "source": [
    "## while 循环的使用"
   ]
  },
  {
   "cell_type": "markdown",
   "metadata": {},
   "source": [
    "while 循环不断地运行，直到指定的条件不满足为止。"
   ]
  },
  {
   "cell_type": "markdown",
   "metadata": {},
   "source": [
    "![](../pictures/循环语句执行过程.png)"
   ]
  },
  {
   "cell_type": "markdown",
   "metadata": {},
   "source": [
    "```python\n",
    "while 条件:\n",
    "    条件满足时，做的事情1\n",
    "    条件满足时，做的事情2\n",
    "    条件满足时，做的事情3\n",
    "        ...(省略)...\n",
    "```"
   ]
  },
  {
   "cell_type": "markdown",
   "metadata": {},
   "source": [
    "你可以使用 while 循环来数数，例如，下面的 while 循环从 1 数到 5 ："
   ]
  },
  {
   "cell_type": "code",
   "execution_count": null,
   "metadata": {},
   "outputs": [],
   "source": [
    "i = 0\n",
    "while i < 5:\n",
    "    print(\"当前是第{}次执行循环\".format(i+1))\n",
    "    print(\"i={}\".format(i))    \n",
    "    i +=1 \n",
    "print('已经退出循环')"
   ]
  },
  {
   "cell_type": "code",
   "execution_count": null,
   "metadata": {
    "collapsed": true
   },
   "outputs": [],
   "source": []
  },
  {
   "cell_type": "markdown",
   "metadata": {},
   "source": [
    "计算1~100的累积和（包含1和100）"
   ]
  },
  {
   "cell_type": "code",
   "execution_count": null,
   "metadata": {},
   "outputs": [],
   "source": [
    "# 循环100次\n",
    "i = 1\n",
    "sum_i = 0 # 累加操作, 初始值设为0\n",
    "while i <= 100:\n",
    "    sum_i += i\n",
    "    \n",
    "    i += 1\n",
    "print('sum_i的值是:', sum_i)"
   ]
  },
  {
   "cell_type": "markdown",
   "metadata": {},
   "source": [
    "练习: 练习一下累乘的编写方法 1-100:"
   ]
  },
  {
   "cell_type": "code",
   "execution_count": null,
   "metadata": {
    "collapsed": true
   },
   "outputs": [],
   "source": []
  },
  {
   "cell_type": "markdown",
   "metadata": {},
   "source": [
    "让用户输入密码, 如果输入错误, 则重新输入, 直到输入正确或者是输入quit"
   ]
  },
  {
   "cell_type": "code",
   "execution_count": null,
   "metadata": {},
   "outputs": [],
   "source": [
    "prompt = \"请输入您的密码, 如果输入错误需要重新输入\"\n",
    "prompt += \"\\nEnter 'quit' to end the program. \"\n",
    "message = \"\"\n",
    "while message != 'quit' and message != 'a123456' :\n",
    "    message = input(prompt)\n",
    "    print(message)\n",
    "print('循环结束')"
   ]
  },
  {
   "cell_type": "markdown",
   "metadata": {},
   "source": [
    "### 指示器"
   ]
  },
  {
   "cell_type": "markdown",
   "metadata": {},
   "source": [
    "我们也可以定义一个变量, 用于判断循环是否需要终止, 这个变量叫做指示器, 默认设置为True, 当这个变量满足某种条件时, 会变成False, 这是循环就会终止.\n",
    "\n",
    " while 语句中就只需检查一个条件 —— 标志的当前值是否为 True ，并将所有测试（是否发生了应将标志设置为 False 的事件）都放在其他地方，从而让程序变得更为整洁。"
   ]
  },
  {
   "cell_type": "code",
   "execution_count": null,
   "metadata": {},
   "outputs": [],
   "source": [
    "active = True # 默认是真\n",
    "while active:\n",
    "    username = input('请输入您的用户名:')\n",
    "    password = input('请输入您的密码:')\n",
    "    if username == \"yangyue\" and password == 'a123456':\n",
    "        active = False\n",
    "        print('您输入的用户名和密码正确')\n",
    "    else:\n",
    "        print('您输入的用户名有误, 请重新输入')\n",
    "print('欢迎进入虚拟世界!')"
   ]
  },
  {
   "cell_type": "markdown",
   "metadata": {},
   "source": [
    "## 其他数据类型和布尔类型的转换规则"
   ]
  },
  {
   "cell_type": "code",
   "execution_count": 41,
   "metadata": {},
   "outputs": [],
   "source": [
    "a = 1\n",
    "while 0:\n",
    "    print('再来一次')"
   ]
  },
  {
   "cell_type": "code",
   "execution_count": 38,
   "metadata": {},
   "outputs": [
    {
     "data": {
      "text/plain": [
       "True"
      ]
     },
     "execution_count": 38,
     "metadata": {},
     "output_type": "execute_result"
    }
   ],
   "source": [
    "bool(1)"
   ]
  },
  {
   "cell_type": "code",
   "execution_count": 39,
   "metadata": {},
   "outputs": [
    {
     "data": {
      "text/plain": [
       "False"
      ]
     },
     "execution_count": 39,
     "metadata": {},
     "output_type": "execute_result"
    }
   ],
   "source": [
    "bool(0)"
   ]
  },
  {
   "cell_type": "code",
   "execution_count": 40,
   "metadata": {},
   "outputs": [
    {
     "data": {
      "text/plain": [
       "True"
      ]
     },
     "execution_count": 40,
     "metadata": {},
     "output_type": "execute_result"
    }
   ],
   "source": [
    "bool(100)"
   ]
  },
  {
   "cell_type": "code",
   "execution_count": 42,
   "metadata": {},
   "outputs": [
    {
     "data": {
      "text/plain": [
       "True"
      ]
     },
     "execution_count": 42,
     "metadata": {},
     "output_type": "execute_result"
    }
   ],
   "source": [
    "bool(-98.25)"
   ]
  },
  {
   "cell_type": "code",
   "execution_count": 46,
   "metadata": {},
   "outputs": [
    {
     "data": {
      "text/plain": [
       "False"
      ]
     },
     "execution_count": 46,
     "metadata": {},
     "output_type": "execute_result"
    }
   ],
   "source": [
    "bool(None)"
   ]
  },
  {
   "cell_type": "code",
   "execution_count": 43,
   "metadata": {},
   "outputs": [
    {
     "data": {
      "text/plain": [
       "True"
      ]
     },
     "execution_count": 43,
     "metadata": {},
     "output_type": "execute_result"
    }
   ],
   "source": [
    "bool('abc')"
   ]
  },
  {
   "cell_type": "code",
   "execution_count": 44,
   "metadata": {},
   "outputs": [
    {
     "data": {
      "text/plain": [
       "True"
      ]
     },
     "execution_count": 44,
     "metadata": {},
     "output_type": "execute_result"
    }
   ],
   "source": [
    "bool('0')"
   ]
  },
  {
   "cell_type": "code",
   "execution_count": 45,
   "metadata": {},
   "outputs": [
    {
     "data": {
      "text/plain": [
       "False"
      ]
     },
     "execution_count": 45,
     "metadata": {},
     "output_type": "execute_result"
    }
   ],
   "source": [
    "bool('')"
   ]
  },
  {
   "cell_type": "markdown",
   "metadata": {},
   "source": [
    "- 数值类型: 0为假, 其他为真\n",
    "- 字符串: 空字符串为假, 其他为真\n",
    "- 列表: 空列表为假, 其他为真\n",
    "- 元组:同上\n",
    "- None: 为假"
   ]
  },
  {
   "cell_type": "code",
   "execution_count": null,
   "metadata": {},
   "outputs": [],
   "source": []
  },
  {
   "cell_type": "code",
   "execution_count": null,
   "metadata": {
    "collapsed": true
   },
   "outputs": [],
   "source": []
  },
  {
   "cell_type": "markdown",
   "metadata": {},
   "source": [
    "## while循环的嵌套"
   ]
  },
  {
   "cell_type": "markdown",
   "metadata": {},
   "source": [
    "打印如下图所示的一个三角形, 每次只能打印一个 * "
   ]
  },
  {
   "cell_type": "markdown",
   "metadata": {},
   "source": [
    "```python\n",
    "* \n",
    "\n",
    "* * \n",
    "\n",
    "* * * \n",
    "\n",
    "* * * * \n",
    "\n",
    "* * * * *\n",
    "```"
   ]
  },
  {
   "cell_type": "code",
   "execution_count": 61,
   "metadata": {},
   "outputs": [
    {
     "name": "stdout",
     "output_type": "stream",
     "text": [
      "*  \n",
      "*  *  \n",
      "*  *  *  \n",
      "*  *  *  *  \n",
      "*  *  *  *  *  \n",
      "*  *  *  *  *  *  \n",
      "*  *  *  *  *  *  *  \n",
      "*  *  *  *  *  *  *  *  \n",
      "*  *  *  *  *  *  *  *  *  \n"
     ]
    }
   ],
   "source": [
    "i = 0\n",
    "while i < 9:\n",
    "    j = 0\n",
    "    while j <= i:     # 每次进入里层循坏, 因为i在变化, 所以循环的次数也会产生变化  \n",
    "        print('*', end='  ')\n",
    "        j += 1\n",
    "    i += 1\n",
    "    print()"
   ]
  },
  {
   "cell_type": "markdown",
   "metadata": {},
   "source": [
    "练习: 打印一个9x9乘法表"
   ]
  },
  {
   "cell_type": "code",
   "execution_count": 62,
   "metadata": {},
   "outputs": [
    {
     "name": "stdout",
     "output_type": "stream",
     "text": [
      "1x1=1  \n",
      "2x1=2  2x2=4  \n",
      "3x1=3  3x2=6  3x3=9  \n",
      "4x1=4  4x2=8  4x3=12  4x4=16  \n",
      "5x1=5  5x2=10  5x3=15  5x4=20  5x5=25  \n",
      "6x1=6  6x2=12  6x3=18  6x4=24  6x5=30  6x6=36  \n",
      "7x1=7  7x2=14  7x3=21  7x4=28  7x5=35  7x6=42  7x7=49  \n",
      "8x1=8  8x2=16  8x3=24  8x4=32  8x5=40  8x6=48  8x7=56  8x8=64  \n",
      "9x1=9  9x2=18  9x3=27  9x4=36  9x5=45  9x6=54  9x7=63  9x8=72  9x9=81  \n"
     ]
    }
   ],
   "source": [
    "i = 1\n",
    "while i <= 9: #行相当于外层循环\n",
    "    j = 1\n",
    "    while j <= i: # 内层循环控制每行的打印个数\n",
    "        print('{}x{}={}'.format(i, j, i*j) , end='  ')\n",
    "        j += 1\n",
    "    print()\n",
    "    i += 1"
   ]
  },
  {
   "cell_type": "code",
   "execution_count": null,
   "metadata": {
    "collapsed": true
   },
   "outputs": [],
   "source": []
  },
  {
   "cell_type": "code",
   "execution_count": null,
   "metadata": {
    "collapsed": true
   },
   "outputs": [],
   "source": []
  },
  {
   "cell_type": "markdown",
   "metadata": {},
   "source": [
    "## 使用 break  结束循环"
   ]
  },
  {
   "cell_type": "markdown",
   "metadata": {},
   "source": [
    "一旦打印出一个字母g, 则结束打印, 不再继续"
   ]
  },
  {
   "cell_type": "code",
   "execution_count": 74,
   "metadata": {
    "collapsed": true
   },
   "outputs": [],
   "source": [
    "text = '''I am happy to join with you today in what will go down \n",
    "in history as the greatest demonstration for freedom in the history of our nation.'''"
   ]
  },
  {
   "cell_type": "code",
   "execution_count": 83,
   "metadata": {},
   "outputs": [
    {
     "name": "stdout",
     "output_type": "stream",
     "text": [
      "I-- --a--m-- --h--a--p--p--y-- --t--o-- --j--o--i--n-- --w--i--t--h-- --y--o--u-- --t--o--d--a--y-- --i--n-- --w--h--a--t-- --w--i--l--l-- --g--"
     ]
    }
   ],
   "source": [
    "i = 0\n",
    "while i < len(text): # 有多少个字符, 就循环多少次\n",
    "    print( text[i] , end='--')\n",
    "    if text[i] == 'g':\n",
    "        break\n",
    "        print('哈哈哈哈哈哈')\n",
    "    i += 1"
   ]
  },
  {
   "cell_type": "code",
   "execution_count": 82,
   "metadata": {},
   "outputs": [
    {
     "name": "stdout",
     "output_type": "stream",
     "text": [
      "I-- --a--m-- --h--a--p--p--y-- --t--o-- --j--o--i--n-- --w--i--t--h-- --y--o--u-- --t--o--d--a--y-- --i--n-- --w--h--a--t-- --w--i--l--l-- --"
     ]
    }
   ],
   "source": [
    "i = 0\n",
    "while i < len(text) and text[i] != 'g': # 有多少个字符, 就循环多少次\n",
    "    print( text[i] , end='--')\n",
    "    \n",
    "    i += 1"
   ]
  },
  {
   "cell_type": "code",
   "execution_count": null,
   "metadata": {
    "collapsed": true
   },
   "outputs": [],
   "source": []
  },
  {
   "cell_type": "code",
   "execution_count": 84,
   "metadata": {},
   "outputs": [
    {
     "name": "stdout",
     "output_type": "stream",
     "text": [
      "请输入您的用户名:safd\n",
      "请输入您的密码:234324\n",
      "您输入的用户名有误, 请重新输入\n",
      "请输入您的用户名:fsdfds\n",
      "请输入您的密码:324\n",
      "您输入的用户名有误, 请重新输入\n",
      "请输入您的用户名:yangyue\n",
      "请输入您的密码:a123456\n",
      "欢迎进入虚拟世界!\n"
     ]
    }
   ],
   "source": [
    "active = True\n",
    "while active:\n",
    "    username = input('请输入您的用户名:')\n",
    "    password = input('请输入您的密码:')\n",
    "    if username == \"yangyue\" and password == 'a123456':\n",
    "        break\n",
    "        print('您输入的用户名和密码正确')\n",
    "    print('您输入的用户名有误, 请重新输入')\n",
    "print('欢迎进入虚拟世界!')"
   ]
  },
  {
   "cell_type": "code",
   "execution_count": 85,
   "metadata": {},
   "outputs": [
    {
     "name": "stdout",
     "output_type": "stream",
     "text": [
      "请输入您的用户名:234324\n",
      "请输入您的密码:324234\n",
      "您输入的用户名有误, 请重新输入\n",
      "请输入您的用户名:yangyue\n",
      "请输入您的密码:a123456\n",
      "您输入的用户名和密码正确\n",
      "您输入的用户名有误, 请重新输入\n",
      "欢迎进入虚拟世界!\n"
     ]
    }
   ],
   "source": [
    "active = True\n",
    "while active:\n",
    "    username = input('请输入您的用户名:')\n",
    "    password = input('请输入您的密码:')\n",
    "    if username == \"yangyue\" and password == 'a123456':\n",
    "        active = False\n",
    "        print('您输入的用户名和密码正确')\n",
    "    print('您输入的用户名有误, 请重新输入')\n",
    "print('欢迎进入虚拟世界!')"
   ]
  },
  {
   "cell_type": "code",
   "execution_count": 86,
   "metadata": {},
   "outputs": [
    {
     "name": "stdout",
     "output_type": "stream",
     "text": [
      "----\n",
      "1\n",
      "----\n",
      "2\n",
      "----\n",
      "3\n",
      "----\n",
      "4\n",
      "----\n"
     ]
    }
   ],
   "source": [
    "i = 0\n",
    "while i<10:\n",
    "    i += 1\n",
    "    print('----')\n",
    "    if i==5:\n",
    "        break\n",
    "    print(i)"
   ]
  },
  {
   "cell_type": "code",
   "execution_count": 88,
   "metadata": {},
   "outputs": [
    {
     "name": "stdout",
     "output_type": "stream",
     "text": [
      "----\n",
      "世\n",
      "----\n",
      "界\n",
      "----\n",
      "杯\n",
      "----\n",
      "在\n"
     ]
    }
   ],
   "source": [
    "name = '世界杯在召唤我'\n",
    "\n",
    "for x in name:\n",
    "    print('----')\n",
    "    print(x)\n",
    "    if x == '在': \n",
    "        break\n"
   ]
  },
  {
   "cell_type": "markdown",
   "metadata": {},
   "source": [
    "终止的是当前代码所在的循环"
   ]
  },
  {
   "cell_type": "code",
   "execution_count": 90,
   "metadata": {},
   "outputs": [
    {
     "name": "stdout",
     "output_type": "stream",
     "text": [
      "1x1=1  \n",
      "2x1=2  2x2=4  \n",
      "3x1=3  3x2=6  3x3=9  \n",
      "4x1=4  4x2=8  4x3=12  \n",
      "5x1=5  5x2=10  5x3=15  \n",
      "6x1=6  6x2=12  6x3=18  \n",
      "7x1=7  7x2=14  7x3=21  \n",
      "8x1=8  8x2=16  8x3=24  \n",
      "9x1=9  9x2=18  9x3=27  \n"
     ]
    }
   ],
   "source": [
    "i = 1\n",
    "while i <= 9: #行相当于外层循环\n",
    "    j = 1\n",
    "    while j <= i: # 内层循环控制每行的打印个数\n",
    "        if j == 4:\n",
    "            break\n",
    "        print('{}x{}={}'.format(i, j, i*j) , end='  ')\n",
    "        j += 1\n",
    "    print()\n",
    "    i += 1"
   ]
  },
  {
   "cell_type": "code",
   "execution_count": 93,
   "metadata": {},
   "outputs": [
    {
     "name": "stdout",
     "output_type": "stream",
     "text": [
      "1x1=1  \n",
      "2x1=2  2x2=4  \n",
      "3x1=3  3x2=6  3x3=9  \n"
     ]
    }
   ],
   "source": [
    "i = 1\n",
    "while i <= 9: #行相当于外层循环\n",
    "    if i == 4:\n",
    "        break\n",
    "    j = 1\n",
    "    while j <= i: # 内层循环控制每行的打印个数\n",
    "        print('{}x{}={}'.format(i, j, i*j) , end='  ')\n",
    "        j += 1\n",
    "    print()\n",
    "    i += 1"
   ]
  },
  {
   "cell_type": "code",
   "execution_count": null,
   "metadata": {
    "collapsed": true
   },
   "outputs": [],
   "source": []
  },
  {
   "cell_type": "code",
   "execution_count": null,
   "metadata": {
    "collapsed": true
   },
   "outputs": [],
   "source": []
  },
  {
   "cell_type": "code",
   "execution_count": null,
   "metadata": {
    "collapsed": true
   },
   "outputs": [],
   "source": []
  },
  {
   "cell_type": "markdown",
   "metadata": {},
   "source": [
    "## 使用continue结束本次循环\n",
    "\n",
    "continue的作用：用来结束本次循环，但不会退出整个循环, 紧接着执行下一次的循环"
   ]
  },
  {
   "cell_type": "code",
   "execution_count": 94,
   "metadata": {},
   "outputs": [
    {
     "name": "stdout",
     "output_type": "stream",
     "text": [
      "----\n",
      "世\n",
      "----\n",
      "界\n",
      "----\n",
      "杯\n",
      "----\n",
      "----\n",
      "召\n",
      "----\n",
      "唤\n",
      "----\n",
      "我\n"
     ]
    }
   ],
   "source": [
    "name = '世界杯在召唤我'\n",
    "\n",
    "for x in name:\n",
    "    print('----')\n",
    "    if x == '在': \n",
    "        continue\n",
    "    print(x)"
   ]
  },
  {
   "cell_type": "code",
   "execution_count": null,
   "metadata": {
    "collapsed": true
   },
   "outputs": [],
   "source": []
  },
  {
   "cell_type": "code",
   "execution_count": 95,
   "metadata": {},
   "outputs": [
    {
     "name": "stdout",
     "output_type": "stream",
     "text": [
      "----\n",
      "1\n",
      "----\n",
      "2\n",
      "----\n",
      "3\n",
      "----\n",
      "4\n",
      "----\n",
      "----\n",
      "6\n",
      "----\n",
      "7\n",
      "----\n",
      "8\n",
      "----\n",
      "9\n",
      "----\n",
      "10\n"
     ]
    }
   ],
   "source": [
    "i = 0\n",
    "\n",
    "while i<10:\n",
    "    i = i+1\n",
    "    print('----')\n",
    "    if i==5:\n",
    "        continue\n",
    "    print(i)"
   ]
  },
  {
   "cell_type": "code",
   "execution_count": 102,
   "metadata": {},
   "outputs": [
    {
     "name": "stdout",
     "output_type": "stream",
     "text": [
      "1x1=1  \n",
      "2x1=2  2x2=4  \n",
      "3x1=3  3x2=6  3x3=9  \n",
      "4x1=4  4x2=8  4x3=12  \n",
      "5x1=5  5x2=10  5x3=15  5x5=25  \n",
      "6x1=6  6x2=12  6x3=18  6x5=30  6x6=36  \n",
      "7x1=7  7x2=14  7x3=21  7x5=35  7x6=42  7x7=49  \n",
      "8x1=8  8x2=16  8x3=24  8x5=40  8x6=48  8x7=56  8x8=64  \n",
      "9x1=9  9x2=18  9x3=27  9x5=45  9x6=54  9x7=63  9x8=72  9x9=81  \n"
     ]
    }
   ],
   "source": [
    "i = 1\n",
    "while i <= 9: #行相当于外层循环\n",
    "    j = 0\n",
    "    while j < i: # 内层循环控制每行的打印个数        \n",
    "        j += 1\n",
    "        if j == 4:\n",
    "            continue\n",
    "        print('{}x{}={}'.format(i, j, i*j) , end='  ')\n",
    "    print()\n",
    "    i += 1"
   ]
  },
  {
   "cell_type": "code",
   "execution_count": 103,
   "metadata": {},
   "outputs": [
    {
     "name": "stdout",
     "output_type": "stream",
     "text": [
      "1x1=1  \n",
      "2x1=2  2x2=4  \n",
      "3x1=3  3x2=6  3x3=9  \n",
      "5x1=5  5x2=10  5x3=15  5x4=20  5x5=25  \n",
      "6x1=6  6x2=12  6x3=18  6x4=24  6x5=30  6x6=36  \n",
      "7x1=7  7x2=14  7x3=21  7x4=28  7x5=35  7x6=42  7x7=49  \n",
      "8x1=8  8x2=16  8x3=24  8x4=32  8x5=40  8x6=48  8x7=56  8x8=64  \n",
      "9x1=9  9x2=18  9x3=27  9x4=36  9x5=45  9x6=54  9x7=63  9x8=72  9x9=81  \n"
     ]
    }
   ],
   "source": [
    "i = 1\n",
    "while i <= 9: #行相当于外层循环\n",
    "    if i == 4:\n",
    "        i += 1\n",
    "        continue\n",
    "    j = 0\n",
    "    while j < i: # 内层循环控制每行的打印个数        \n",
    "        j += 1\n",
    "\n",
    "        print('{}x{}={}'.format(i, j, i*j) , end='  ')\n",
    "    print()\n",
    "    i += 1"
   ]
  },
  {
   "cell_type": "code",
   "execution_count": null,
   "metadata": {
    "collapsed": true
   },
   "outputs": [],
   "source": []
  },
  {
   "cell_type": "code",
   "execution_count": null,
   "metadata": {
    "collapsed": true
   },
   "outputs": [],
   "source": []
  },
  {
   "cell_type": "code",
   "execution_count": null,
   "metadata": {
    "collapsed": true
   },
   "outputs": [],
   "source": []
  }
 ],
 "metadata": {
  "kernelspec": {
   "display_name": "Python 3",
   "language": "python",
   "name": "python3"
  },
  "language_info": {
   "codemirror_mode": {
    "name": "ipython",
    "version": 3
   },
   "file_extension": ".py",
   "mimetype": "text/x-python",
   "name": "python",
   "nbconvert_exporter": "python",
   "pygments_lexer": "ipython3",
   "version": "3.7.0"
  },
  "toc": {
   "base_numbering": 1,
   "nav_menu": {},
   "number_sections": true,
   "sideBar": true,
   "skip_h1_title": true,
   "title_cell": "目录",
   "title_sidebar": "目录",
   "toc_cell": false,
   "toc_position": {
    "height": "calc(100% - 180px)",
    "left": "10px",
    "top": "150px",
    "width": "213px"
   },
   "toc_section_display": true,
   "toc_window_display": true
  },
  "varInspector": {
   "cols": {
    "lenName": 16,
    "lenType": 16,
    "lenVar": 40
   },
   "kernels_config": {
    "python": {
     "delete_cmd_postfix": "",
     "delete_cmd_prefix": "del ",
     "library": "var_list.py",
     "varRefreshCmd": "print(var_dic_list())"
    },
    "r": {
     "delete_cmd_postfix": ") ",
     "delete_cmd_prefix": "rm(",
     "library": "var_list.r",
     "varRefreshCmd": "cat(var_dic_list()) "
    }
   },
   "types_to_exclude": [
    "module",
    "function",
    "builtin_function_or_method",
    "instance",
    "_Feature"
   ],
   "window_display": false
  }
 },
 "nbformat": 4,
 "nbformat_minor": 2
}
