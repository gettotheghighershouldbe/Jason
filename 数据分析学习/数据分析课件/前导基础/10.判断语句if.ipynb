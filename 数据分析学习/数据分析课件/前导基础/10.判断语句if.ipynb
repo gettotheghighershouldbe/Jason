{
 "cells": [
  {
   "cell_type": "markdown",
   "metadata": {},
   "source": [
    "# 判断语句if-控制流语句概念"
   ]
  },
  {
   "cell_type": "markdown",
   "metadata": {},
   "source": [
    "## 控制流语句\n",
    "\n",
    "控制程序运行流程的语句\n",
    "\n",
    "**顺序结构(从左至右, 从上至下)**\n",
    "\n",
    "![](../pictures/顺序结构语句.png)\n",
    "**分支结构**\n",
    "\n",
    "![](../pictures/分支条件判断.png)\n",
    "**循环结构**\n",
    "\n",
    "![](../pictures/循环语句执行过程.png)"
   ]
  },
  {
   "cell_type": "markdown",
   "metadata": {},
   "source": [
    "## if条件判断"
   ]
  },
  {
   "cell_type": "markdown",
   "metadata": {},
   "source": [
    "所以if语句的完整形式就是：\n",
    "\n",
    "```python\n",
    "if <条件判断1>:\n",
    "    <执行1>\n",
    "elif <条件判断2>:\n",
    "    <执行2>\n",
    "elif <条件判断3>:\n",
    "    <执行3>\n",
    "else:\n",
    "    <执行4>\n",
    "\n",
    "```"
   ]
  },
  {
   "cell_type": "code",
   "execution_count": 3,
   "metadata": {},
   "outputs": [
    {
     "name": "stdout",
     "output_type": "stream",
     "text": [
      "这句执行了\n",
      "一定会被执行\n"
     ]
    }
   ],
   "source": [
    "a = 1\n",
    "if a == 1:\n",
    "    print('这句执行了')\n",
    "print('一定会被执行')"
   ]
  },
  {
   "cell_type": "code",
   "execution_count": 4,
   "metadata": {},
   "outputs": [
    {
     "name": "stdout",
     "output_type": "stream",
     "text": [
      "一定会被执行\n"
     ]
    }
   ],
   "source": [
    "a = 2\n",
    "if a == 1:\n",
    "    print('这句执行了')\n",
    "    \n",
    "print('一定会被执行')"
   ]
  },
  {
   "cell_type": "code",
   "execution_count": 5,
   "metadata": {},
   "outputs": [
    {
     "name": "stdout",
     "output_type": "stream",
     "text": [
      "if内部代码\n",
      "一定会被执行\n"
     ]
    }
   ],
   "source": [
    "a = 1\n",
    "if a == 1:\n",
    "    print('if内部代码')\n",
    "else:\n",
    "    print('else内部代码')\n",
    "    \n",
    "    \n",
    "print('一定会被执行')"
   ]
  },
  {
   "cell_type": "code",
   "execution_count": 6,
   "metadata": {},
   "outputs": [
    {
     "name": "stdout",
     "output_type": "stream",
     "text": [
      "else内部代码\n",
      "一定会被执行\n"
     ]
    }
   ],
   "source": [
    "a = 2\n",
    "if a == 1:\n",
    "    print('if内部代码')\n",
    "else:\n",
    "    print('else内部代码')\n",
    "    \n",
    "\n",
    "print('一定会被执行')"
   ]
  },
  {
   "cell_type": "code",
   "execution_count": 9,
   "metadata": {},
   "outputs": [
    {
     "name": "stdout",
     "output_type": "stream",
     "text": [
      "else内部代码\n",
      "一定会被执行\n"
     ]
    }
   ],
   "source": [
    "a = 3\n",
    "if a == 1:\n",
    "    print('if内部代码')\n",
    "elif a == 2:\n",
    "    print('elif内部代码')\n",
    "else:\n",
    "    print('else内部代码')\n",
    "    \n",
    "\n",
    "print('一定会被执行')"
   ]
  },
  {
   "cell_type": "code",
   "execution_count": 12,
   "metadata": {},
   "outputs": [
    {
     "name": "stdout",
     "output_type": "stream",
     "text": [
      "elif内部代码3\n",
      "一定会被执行\n"
     ]
    }
   ],
   "source": [
    "a = 3\n",
    "if a == 1:\n",
    "    print('if内部代码')\n",
    "elif a == 2:\n",
    "    print('elif内部代码2')\n",
    "elif a == 3:\n",
    "    print('elif内部代码3')\n",
    "elif a == 4:\n",
    "    print('elif内部代码4')\n",
    "else:\n",
    "    print('else内部代码')\n",
    "    \n",
    "\n",
    "print('一定会被执行')"
   ]
  },
  {
   "cell_type": "markdown",
   "metadata": {},
   "source": [
    "小练习: 获得一个年龄, 根据年龄打印该人物的特征"
   ]
  },
  {
   "cell_type": "code",
   "execution_count": 18,
   "metadata": {},
   "outputs": [
    {
     "name": "stdout",
     "output_type": "stream",
     "text": [
      "你是一个老年\n"
     ]
    }
   ],
   "source": [
    "age = 55\n",
    "if 0<age<=4: \n",
    "    print(\"你是一个婴儿\")\n",
    "elif age <= 12: # 如果代码走到这里, 则年龄一定大于4岁, 所以不需要再次进行判断\n",
    "    print('你是一个小孩儿')\n",
    "elif age < 18:\n",
    "    print('你是一个少年')\n",
    "elif age < 35:\n",
    "    print('你是一个青年')\n",
    "elif age < 50:\n",
    "    print('您是一个中年')\n",
    "else:\n",
    "    print('你是一个老年')"
   ]
  },
  {
   "cell_type": "code",
   "execution_count": null,
   "metadata": {
    "collapsed": true
   },
   "outputs": [],
   "source": []
  },
  {
   "cell_type": "markdown",
   "metadata": {},
   "source": [
    "## 练习\n",
    "\n",
    "小明身高1.75，体重80.5kg。请根据BMI公式（体重除以身高(单位米)的平方）帮小明计算他的BMI指数，\n",
    "\n",
    "并根据BMI指数：\n",
    "\n",
    "低于18.5：过轻 18.5-25：正常 25-28：过重 28-32：肥胖 高于32：严重肥胖 用if-elif判断并打印结果："
   ]
  },
  {
   "cell_type": "code",
   "execution_count": 19,
   "metadata": {},
   "outputs": [
    {
     "name": "stdout",
     "output_type": "stream",
     "text": [
      "正常\n"
     ]
    }
   ],
   "source": [
    "height = 1.72\n",
    "weight = 71\n",
    "BMI = weight/(height**2)\n",
    "\n",
    "if BMI < 18.5:\n",
    "    print(\"过轻\")\n",
    "elif BMI < 25:\n",
    "    print(\"正常\")\n",
    "elif BMI < 28:\n",
    "    print(\"过重\")\n",
    "elif BMI < 32:\n",
    "    print(\"肥胖\")\n",
    "else:\n",
    "    print(\"严重肥胖\")"
   ]
  },
  {
   "cell_type": "code",
   "execution_count": null,
   "metadata": {
    "collapsed": true
   },
   "outputs": [],
   "source": []
  },
  {
   "cell_type": "code",
   "execution_count": null,
   "metadata": {
    "collapsed": true
   },
   "outputs": [],
   "source": []
  },
  {
   "cell_type": "code",
   "execution_count": null,
   "metadata": {
    "collapsed": true
   },
   "outputs": [],
   "source": []
  },
  {
   "cell_type": "code",
   "execution_count": null,
   "metadata": {
    "collapsed": true
   },
   "outputs": [],
   "source": []
  },
  {
   "cell_type": "code",
   "execution_count": null,
   "metadata": {
    "collapsed": true
   },
   "outputs": [],
   "source": []
  },
  {
   "cell_type": "code",
   "execution_count": null,
   "metadata": {
    "collapsed": true
   },
   "outputs": [],
   "source": []
  },
  {
   "cell_type": "code",
   "execution_count": null,
   "metadata": {
    "collapsed": true
   },
   "outputs": [],
   "source": []
  },
  {
   "cell_type": "code",
   "execution_count": null,
   "metadata": {
    "collapsed": true
   },
   "outputs": [],
   "source": []
  },
  {
   "cell_type": "code",
   "execution_count": null,
   "metadata": {
    "collapsed": true
   },
   "outputs": [],
   "source": []
  },
  {
   "cell_type": "code",
   "execution_count": null,
   "metadata": {
    "collapsed": true
   },
   "outputs": [],
   "source": []
  }
 ],
 "metadata": {
  "kernelspec": {
   "display_name": "Python 3",
   "language": "python",
   "name": "python3"
  },
  "language_info": {
   "codemirror_mode": {
    "name": "ipython",
    "version": 3
   },
   "file_extension": ".py",
   "mimetype": "text/x-python",
   "name": "python",
   "nbconvert_exporter": "python",
   "pygments_lexer": "ipython3",
   "version": "3.7.0"
  },
  "toc": {
   "base_numbering": 1,
   "nav_menu": {},
   "number_sections": true,
   "sideBar": true,
   "skip_h1_title": true,
   "title_cell": "Table of Contents",
   "title_sidebar": "目录",
   "toc_cell": false,
   "toc_position": {},
   "toc_section_display": true,
   "toc_window_display": true
  },
  "varInspector": {
   "cols": {
    "lenName": 16,
    "lenType": 16,
    "lenVar": 40
   },
   "kernels_config": {
    "python": {
     "delete_cmd_postfix": "",
     "delete_cmd_prefix": "del ",
     "library": "var_list.py",
     "varRefreshCmd": "print(var_dic_list())"
    },
    "r": {
     "delete_cmd_postfix": ") ",
     "delete_cmd_prefix": "rm(",
     "library": "var_list.r",
     "varRefreshCmd": "cat(var_dic_list()) "
    }
   },
   "types_to_exclude": [
    "module",
    "function",
    "builtin_function_or_method",
    "instance",
    "_Feature"
   ],
   "window_display": false
  }
 },
 "nbformat": 4,
 "nbformat_minor": 2
}
