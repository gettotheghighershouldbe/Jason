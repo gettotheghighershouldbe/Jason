{
 "cells": [
  {
   "cell_type": "markdown",
   "metadata": {},
   "source": [
    "# Markdown语言简介(选学)"
   ]
  },
  {
   "cell_type": "markdown",
   "metadata": {},
   "source": [
    "Markdown是一种可以使用普通文本编辑器编写的标记语言，通过简单的标记语法，它可以使普通文本内容具有一定的格式。"
   ]
  },
  {
   "cell_type": "markdown",
   "metadata": {},
   "source": [
    "将cell切换到Markdown语言\n",
    "\n",
    "然后我们就可以使用Markdown语言, 进行文本编辑了"
   ]
  },
  {
   "cell_type": "markdown",
   "metadata": {},
   "source": [
    "在想要设置为标题的文字前面加# 即可\n",
    "\n",
    "一个# 是一级标题，二个## 是二级标题，以此类推。支持五级标题。\n",
    "\n",
    "**注：这里在# 和文字中中间必须有空格才能识别**\n",
    "\n",
    "示例：\n",
    "```\n",
    "# 这是一级标题\n",
    "## 这是二级标题\n",
    "### 这是三级标题\n",
    "#### 这是四级标题\n",
    "##### 这是五级标题\n",
    "```\n",
    "\n",
    "显示效果为\n",
    "\n",
    "# 这是一级标题\n",
    "## 这是二级标题\n",
    "### 这是三级标题\n",
    "#### 这是四级标题\n",
    "##### 这是五级标题"
   ]
  },
  {
   "cell_type": "markdown",
   "metadata": {},
   "source": [
    "### 字体"
   ]
  },
  {
   "cell_type": "markdown",
   "metadata": {},
   "source": [
    "二、字体\n",
    "加粗\n",
    "要加粗的文字左右分别用两个*号包起来\n",
    "\n",
    "**加粗了**\n",
    "\n",
    "斜体\n",
    "要倾斜的文字左右分别用一个*号包起来\n",
    "\n",
    "*倾斜了*\n",
    "\n",
    "无序列表, 在每一项前边添加\"-\"\n",
    "\n",
    "- 无序列表1\n",
    "- 无序列表2\n",
    "- 无序列表3\n",
    "\n",
    "有序列表, 在每一项之前添加\"1. 2. ...\"\n",
    "\n",
    "1. 列表内容\n",
    "2. 列表内容\n",
    "3. 列表内容"
   ]
  },
  {
   "cell_type": "code",
   "execution_count": null,
   "metadata": {
    "collapsed": true
   },
   "outputs": [],
   "source": []
  },
  {
   "cell_type": "code",
   "execution_count": null,
   "metadata": {
    "collapsed": true
   },
   "outputs": [],
   "source": []
  },
  {
   "cell_type": "markdown",
   "metadata": {},
   "source": [
    "## 引用\n",
    "\n",
    "在引用的文字前加>即可。"
   ]
  },
  {
   "cell_type": "markdown",
   "metadata": {
    "collapsed": true
   },
   "source": [
    "正常的内容\n",
    "\n",
    "> 引用的内容哈哈"
   ]
  },
  {
   "cell_type": "markdown",
   "metadata": {},
   "source": [
    "## 分割线\n",
    "\n",
    "三个或者三个以上的 - 或者 * 都可以。\n",
    "\n"
   ]
  },
  {
   "cell_type": "markdown",
   "metadata": {
    "collapsed": true
   },
   "source": [
    "有一些内容\n",
    "\n",
    "-------\n",
    "\n",
    "另外一些内容"
   ]
  },
  {
   "cell_type": "code",
   "execution_count": null,
   "metadata": {
    "collapsed": true
   },
   "outputs": [],
   "source": []
  },
  {
   "cell_type": "markdown",
   "metadata": {},
   "source": [
    "## 超链接\n",
    "\n",
    "```markdown\n",
    "[超链接名](超链接地址 \"超链接title\")\n",
    "title可加可不加\n",
    "\n",
    "示例\n",
    "\n",
    "[简书](http://jianshu.com)\n",
    "[百度](http://baidu.com)\n",
    "\n",
    "```\n",
    "\n",
    "\n",
    "[简书](http://jianshu.com)\n",
    "[百度](http://baidu.com)"
   ]
  },
  {
   "cell_type": "markdown",
   "metadata": {
    "collapsed": true
   },
   "source": [
    "[B站](http://bilibili.com)"
   ]
  },
  {
   "cell_type": "markdown",
   "metadata": {},
   "source": [
    "## 插入图片"
   ]
  },
  {
   "cell_type": "markdown",
   "metadata": {
    "collapsed": true
   },
   "source": [
    "```\n",
    "![图片](网址)\n",
    "```"
   ]
  },
  {
   "cell_type": "markdown",
   "metadata": {
    "collapsed": true
   },
   "source": [
    "![漫画图](http://att.bbs.duowan.com/forum/201309/27/121732olrimy3dkxgrmdyl.jpg)"
   ]
  },
  {
   "cell_type": "code",
   "execution_count": null,
   "metadata": {
    "collapsed": true
   },
   "outputs": [],
   "source": []
  },
  {
   "cell_type": "markdown",
   "metadata": {},
   "source": [
    "## 表格\n",
    "\n",
    "```\n",
    "表头|表头|表头\n",
    "---|:--:|---:\n",
    "内容|内容|内容\n",
    "内容|内容|内容\n",
    "\n",
    "第二行分割表头和内容。\n",
    "- 有一个就行，为了对齐，多加了几个\n",
    "文字默认居左\n",
    "-两边加：表示文字居中\n",
    "-右边加：表示文字居右\n",
    "注：原生的语法两边都要用 | 包起来。此处省略\n",
    "```"
   ]
  },
  {
   "cell_type": "markdown",
   "metadata": {
    "collapsed": true
   },
   "source": [
    "姓名|性别|年龄\n",
    "---|:--:|---:\n",
    "李雷|男|16\n",
    "韩梅梅|女|15"
   ]
  },
  {
   "cell_type": "code",
   "execution_count": null,
   "metadata": {
    "collapsed": true
   },
   "outputs": [],
   "source": []
  },
  {
   "cell_type": "code",
   "execution_count": null,
   "metadata": {
    "collapsed": true
   },
   "outputs": [],
   "source": []
  },
  {
   "cell_type": "code",
   "execution_count": null,
   "metadata": {
    "collapsed": true
   },
   "outputs": [],
   "source": []
  },
  {
   "cell_type": "code",
   "execution_count": null,
   "metadata": {
    "collapsed": true
   },
   "outputs": [],
   "source": []
  },
  {
   "cell_type": "code",
   "execution_count": null,
   "metadata": {
    "collapsed": true
   },
   "outputs": [],
   "source": []
  }
 ],
 "metadata": {
  "kernelspec": {
   "display_name": "Python [default]",
   "language": "python",
   "name": "python3"
  },
  "language_info": {
   "codemirror_mode": {
    "name": "ipython",
    "version": 3
   },
   "file_extension": ".py",
   "mimetype": "text/x-python",
   "name": "python",
   "nbconvert_exporter": "python",
   "pygments_lexer": "ipython3",
   "version": "3.5.4"
  },
  "toc": {
   "base_numbering": 1,
   "nav_menu": {},
   "number_sections": true,
   "sideBar": true,
   "skip_h1_title": true,
   "title_cell": "Table of Contents",
   "title_sidebar": "Contents",
   "toc_cell": false,
   "toc_position": {},
   "toc_section_display": true,
   "toc_window_display": true
  },
  "varInspector": {
   "cols": {
    "lenName": 16,
    "lenType": 16,
    "lenVar": 40
   },
   "kernels_config": {
    "python": {
     "delete_cmd_postfix": "",
     "delete_cmd_prefix": "del ",
     "library": "var_list.py",
     "varRefreshCmd": "print(var_dic_list())"
    },
    "r": {
     "delete_cmd_postfix": ") ",
     "delete_cmd_prefix": "rm(",
     "library": "var_list.r",
     "varRefreshCmd": "cat(var_dic_list()) "
    }
   },
   "types_to_exclude": [
    "module",
    "function",
    "builtin_function_or_method",
    "instance",
    "_Feature"
   ],
   "window_display": false
  }
 },
 "nbformat": 4,
 "nbformat_minor": 2
}
