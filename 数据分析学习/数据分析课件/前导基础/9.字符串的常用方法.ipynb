{
 "cells": [
  {
   "cell_type": "markdown",
   "metadata": {},
   "source": [
    "# 字符串的常用方法"
   ]
  },
  {
   "cell_type": "markdown",
   "metadata": {},
   "source": [
    "![](../pictures/字符串的常用方法.png)"
   ]
  },
  {
   "cell_type": "markdown",
   "metadata": {},
   "source": [
    "**method:方法**\n",
    "\n",
    "在对象中封装好的用于对这个对象进行处理的功能.\n",
    "\n",
    "使用  object.() 方法进行调用"
   ]
  },
  {
   "cell_type": "code",
   "execution_count": 17,
   "metadata": {
    "collapsed": true
   },
   "outputs": [],
   "source": [
    "a = 'abcd'"
   ]
  },
  {
   "cell_type": "code",
   "execution_count": 18,
   "metadata": {},
   "outputs": [
    {
     "data": {
      "text/plain": [
       "str"
      ]
     },
     "execution_count": 18,
     "metadata": {},
     "output_type": "execute_result"
    }
   ],
   "source": [
    "type(a)"
   ]
  },
  {
   "cell_type": "markdown",
   "metadata": {},
   "source": [
    "#### find"
   ]
  },
  {
   "cell_type": "markdown",
   "metadata": {},
   "source": [
    "检测 str 是否包含在 mystr中，如果是返回开始的索引值，否则返回-1\n",
    "\n",
    "mystr.find(str, start=0, end=len(mystr))"
   ]
  },
  {
   "cell_type": "code",
   "execution_count": 67,
   "metadata": {},
   "outputs": [
    {
     "name": "stdout",
     "output_type": "stream",
     "text": [
      "莲峰道士高且洁，不下莲宫经岁月。\n",
      "星辰夜礼玉簪寒，龙虎晓开金鼎热。\n",
      "东山东畔忽相逢，握手丁宁语似钟。\n",
      "剑术已成君把去，有蛟龙处斩蛟龙。\n",
      "朝泛苍梧暮却还，洞中日月我为天。\n",
      "匣中宝剑时时吼，不遇同人誓不传。\n",
      "偎岩拍手葫芦舞，过岭穿云拄杖飞。\n",
      "来往八千须半日，金州南畔有松扉。\n",
      "养得儿形似我形，我身枯悴子光精。\n",
      "生生世世常如此，争似留神养自身。\n",
      "精养灵根气养神，此真之外更无真。\n",
      "神仙不肯分明说，迷了千千万万人。\n"
     ]
    }
   ],
   "source": [
    "mystr = '''莲峰道士高且洁，不下莲宫经岁月。\n",
    "星辰夜礼玉簪寒，龙虎晓开金鼎热。\n",
    "东山东畔忽相逢，握手丁宁语似钟。\n",
    "剑术已成君把去，有蛟龙处斩蛟龙。\n",
    "朝泛苍梧暮却还，洞中日月我为天。\n",
    "匣中宝剑时时吼，不遇同人誓不传。\n",
    "偎岩拍手葫芦舞，过岭穿云拄杖飞。\n",
    "来往八千须半日，金州南畔有松扉。\n",
    "养得儿形似我形，我身枯悴子光精。\n",
    "生生世世常如此，争似留神养自身。\n",
    "精养灵根气养神，此真之外更无真。\n",
    "神仙不肯分明说，迷了千千万万人。'''\n",
    "print(mystr)"
   ]
  },
  {
   "cell_type": "code",
   "execution_count": 20,
   "metadata": {},
   "outputs": [
    {
     "data": {
      "text/plain": [
       "'\\n莲峰道士高且洁，不下莲宫经岁月。\\n星辰夜礼玉簪寒，龙虎晓开金鼎热。\\n东山东畔忽相逢，握手丁宁语似钟。\\n剑术已成君把去，有蛟龙处斩蛟龙。\\n朝泛苍梧暮却还，洞中日月我为天。\\n匣中宝剑时时吼，不遇同人誓不传。\\n偎岩拍手葫芦舞，过岭穿云拄杖飞。\\n来往八千须半日，金州南畔有松扉。\\n养得儿形似我形，我身枯悴子光精。\\n生生世世常如此，争似留神养自身。\\n精养灵根气养神，此真之外更无真。\\n神仙不肯分明说，迷了千千万万人。\\n'"
      ]
     },
     "execution_count": 20,
     "metadata": {},
     "output_type": "execute_result"
    }
   ],
   "source": [
    "mystr"
   ]
  },
  {
   "cell_type": "code",
   "execution_count": 22,
   "metadata": {},
   "outputs": [
    {
     "data": {
      "text/plain": [
       "3"
      ]
     },
     "execution_count": 22,
     "metadata": {},
     "output_type": "execute_result"
    }
   ],
   "source": [
    "mystr.find('道') # 返回的是索引值"
   ]
  },
  {
   "cell_type": "code",
   "execution_count": 23,
   "metadata": {},
   "outputs": [
    {
     "data": {
      "text/plain": [
       "'道'"
      ]
     },
     "execution_count": 23,
     "metadata": {},
     "output_type": "execute_result"
    }
   ],
   "source": [
    "mystr[3]"
   ]
  },
  {
   "cell_type": "code",
   "execution_count": 24,
   "metadata": {},
   "outputs": [
    {
     "data": {
      "text/plain": [
       "'道士高且洁'"
      ]
     },
     "execution_count": 24,
     "metadata": {},
     "output_type": "execute_result"
    }
   ],
   "source": [
    "mystr[3:3+5]"
   ]
  },
  {
   "cell_type": "code",
   "execution_count": 25,
   "metadata": {},
   "outputs": [
    {
     "data": {
      "text/plain": [
       "'道士'"
      ]
     },
     "execution_count": 25,
     "metadata": {},
     "output_type": "execute_result"
    }
   ],
   "source": [
    "mystr[mystr.find('道'):mystr.find('道')+2]"
   ]
  },
  {
   "cell_type": "code",
   "execution_count": 26,
   "metadata": {},
   "outputs": [
    {
     "data": {
      "text/plain": [
       "26"
      ]
     },
     "execution_count": 26,
     "metadata": {},
     "output_type": "execute_result"
    }
   ],
   "source": [
    "mystr.find('龙') #默认索引出的是第一个找到的字"
   ]
  },
  {
   "cell_type": "code",
   "execution_count": 27,
   "metadata": {},
   "outputs": [
    {
     "data": {
      "text/plain": [
       "'龙虎晓开'"
      ]
     },
     "execution_count": 27,
     "metadata": {},
     "output_type": "execute_result"
    }
   ],
   "source": [
    "mystr[26:30]"
   ]
  },
  {
   "cell_type": "code",
   "execution_count": 28,
   "metadata": {},
   "outputs": [
    {
     "data": {
      "text/plain": [
       "62"
      ]
     },
     "execution_count": 28,
     "metadata": {},
     "output_type": "execute_result"
    }
   ],
   "source": [
    "mystr.find('龙', 27)"
   ]
  },
  {
   "cell_type": "code",
   "execution_count": 29,
   "metadata": {},
   "outputs": [
    {
     "data": {
      "text/plain": [
       "'龙处斩蛟龙'"
      ]
     },
     "execution_count": 29,
     "metadata": {},
     "output_type": "execute_result"
    }
   ],
   "source": [
    "mystr[62:62+5]"
   ]
  },
  {
   "cell_type": "code",
   "execution_count": 30,
   "metadata": {},
   "outputs": [
    {
     "data": {
      "text/plain": [
       "66"
      ]
     },
     "execution_count": 30,
     "metadata": {},
     "output_type": "execute_result"
    }
   ],
   "source": [
    "mystr.find('龙', 63, 100)"
   ]
  },
  {
   "cell_type": "code",
   "execution_count": 32,
   "metadata": {},
   "outputs": [
    {
     "data": {
      "text/plain": [
       "-1"
      ]
     },
     "execution_count": 32,
     "metadata": {},
     "output_type": "execute_result"
    }
   ],
   "source": [
    "mystr.find('龙',70, 100) # 如果没有找到, 则返回-1"
   ]
  },
  {
   "cell_type": "code",
   "execution_count": 33,
   "metadata": {},
   "outputs": [
    {
     "data": {
      "text/plain": [
       "61"
      ]
     },
     "execution_count": 33,
     "metadata": {},
     "output_type": "execute_result"
    }
   ],
   "source": [
    "mystr.find('蛟龙')"
   ]
  },
  {
   "cell_type": "code",
   "execution_count": 34,
   "metadata": {},
   "outputs": [
    {
     "data": {
      "text/plain": [
       "77"
      ]
     },
     "execution_count": 34,
     "metadata": {},
     "output_type": "execute_result"
    }
   ],
   "source": [
    "mystr.find('洞中日月我为天')"
   ]
  },
  {
   "cell_type": "code",
   "execution_count": null,
   "metadata": {
    "collapsed": true
   },
   "outputs": [],
   "source": []
  },
  {
   "cell_type": "markdown",
   "metadata": {},
   "source": [
    "#### count"
   ]
  },
  {
   "cell_type": "markdown",
   "metadata": {},
   "source": [
    "返回 str在start和end之间 在 mystr里面出现的次数\n",
    "\n",
    "mystr.count(str, start=0, end=len(mystr))"
   ]
  },
  {
   "cell_type": "code",
   "execution_count": 35,
   "metadata": {},
   "outputs": [
    {
     "data": {
      "text/plain": [
       "'\\n莲峰道士高且洁，不下莲宫经岁月。\\n星辰夜礼玉簪寒，龙虎晓开金鼎热。\\n东山东畔忽相逢，握手丁宁语似钟。\\n剑术已成君把去，有蛟龙处斩蛟龙。\\n朝泛苍梧暮却还，洞中日月我为天。\\n匣中宝剑时时吼，不遇同人誓不传。\\n偎岩拍手葫芦舞，过岭穿云拄杖飞。\\n来往八千须半日，金州南畔有松扉。\\n养得儿形似我形，我身枯悴子光精。\\n生生世世常如此，争似留神养自身。\\n精养灵根气养神，此真之外更无真。\\n神仙不肯分明说，迷了千千万万人。\\n'"
      ]
     },
     "execution_count": 35,
     "metadata": {},
     "output_type": "execute_result"
    }
   ],
   "source": [
    "mystr"
   ]
  },
  {
   "cell_type": "code",
   "execution_count": 36,
   "metadata": {},
   "outputs": [
    {
     "data": {
      "text/plain": [
       "3"
      ]
     },
     "execution_count": 36,
     "metadata": {},
     "output_type": "execute_result"
    }
   ],
   "source": [
    "mystr.count('龙')"
   ]
  },
  {
   "cell_type": "code",
   "execution_count": 37,
   "metadata": {},
   "outputs": [
    {
     "data": {
      "text/plain": [
       "2"
      ]
     },
     "execution_count": 37,
     "metadata": {},
     "output_type": "execute_result"
    }
   ],
   "source": [
    "mystr.count('日')"
   ]
  },
  {
   "cell_type": "code",
   "execution_count": 40,
   "metadata": {},
   "outputs": [
    {
     "data": {
      "text/plain": [
       "2"
      ]
     },
     "execution_count": 40,
     "metadata": {},
     "output_type": "execute_result"
    }
   ],
   "source": [
    "mystr.count('剑')"
   ]
  },
  {
   "cell_type": "code",
   "execution_count": 41,
   "metadata": {},
   "outputs": [
    {
     "data": {
      "text/plain": [
       "1"
      ]
     },
     "execution_count": 41,
     "metadata": {},
     "output_type": "execute_result"
    }
   ],
   "source": [
    "mystr.count('剑', 70, 90)"
   ]
  },
  {
   "cell_type": "code",
   "execution_count": 42,
   "metadata": {},
   "outputs": [
    {
     "data": {
      "text/plain": [
       "0"
      ]
     },
     "execution_count": 42,
     "metadata": {},
     "output_type": "execute_result"
    }
   ],
   "source": [
    "mystr.count('女') # "
   ]
  },
  {
   "cell_type": "code",
   "execution_count": null,
   "metadata": {
    "collapsed": true
   },
   "outputs": [],
   "source": [
    "if mystr.count('女') == 0:\n",
    "    pass\n",
    "elif mystr.count('女') > 1\n",
    "    pass\n",
    "else:\n",
    "    pass"
   ]
  },
  {
   "cell_type": "code",
   "execution_count": null,
   "metadata": {
    "collapsed": true
   },
   "outputs": [],
   "source": []
  },
  {
   "cell_type": "markdown",
   "metadata": {},
   "source": [
    "#### replace"
   ]
  },
  {
   "cell_type": "markdown",
   "metadata": {},
   "source": [
    "把 mystr 中的 str1 替换成 str2,如果 count 指定，则替换不超过 count 次.\n",
    "\n",
    "S.replace(old, new[, count]) -> str"
   ]
  },
  {
   "cell_type": "code",
   "execution_count": 43,
   "metadata": {},
   "outputs": [
    {
     "data": {
      "text/plain": [
       "'\\n莲峰道士高且洁，不下莲宫经岁月。\\n星辰夜礼玉簪寒，龙虎晓开金鼎热。\\n东山东畔忽相逢，握手丁宁语似钟。\\n剑术已成君把去，有蛟龙处斩蛟龙。\\n朝泛苍梧暮却还，洞中日月我为天。\\n匣中宝剑时时吼，不遇同人誓不传。\\n偎岩拍手葫芦舞，过岭穿云拄杖飞。\\n来往八千须半日，金州南畔有松扉。\\n养得儿形似我形，我身枯悴子光精。\\n生生世世常如此，争似留神养自身。\\n精养灵根气养神，此真之外更无真。\\n神仙不肯分明说，迷了千千万万人。\\n'"
      ]
     },
     "execution_count": 43,
     "metadata": {},
     "output_type": "execute_result"
    }
   ],
   "source": [
    "mystr"
   ]
  },
  {
   "cell_type": "code",
   "execution_count": 44,
   "metadata": {},
   "outputs": [
    {
     "data": {
      "text/plain": [
       "'\\n莲峰道士高且洁，不下莲宫经岁月。\\n星辰夜礼玉簪寒，龙虎晓开金鼎热。\\n东山东畔忽相逢，握手丁宁语似钟。\\n剑术已成君把去，有蛟龙处养蛟龙。\\n朝泛苍梧暮却还，洞中日月我为天。\\n匣中宝剑时时吼，不遇同人誓不传。\\n偎岩拍手葫芦舞，过岭穿云拄杖飞。\\n来往八千须半日，金州南畔有松扉。\\n养得儿形似我形，我身枯悴子光精。\\n生生世世常如此，争似留神养自身。\\n精养灵根气养神，此真之外更无真。\\n神仙不肯分明说，迷了千千万万人。\\n'"
      ]
     },
     "execution_count": 44,
     "metadata": {},
     "output_type": "execute_result"
    }
   ],
   "source": [
    "mystr.replace('有蛟龙处斩蛟龙', '有蛟龙处养蛟龙')"
   ]
  },
  {
   "cell_type": "code",
   "execution_count": 45,
   "metadata": {},
   "outputs": [
    {
     "data": {
      "text/plain": [
       "'\\n莲峰道士高且洁，不下莲宫经岁月。\\n星辰夜礼玉簪寒，龙虎晓开金鼎热。\\n东山东畔忽相逢，握手丁宁语似钟。\\n刀术已成君把去，有蛟龙处斩蛟龙。\\n朝泛苍梧暮却还，洞中日月我为天。\\n匣中宝刀时时吼，不遇同人誓不传。\\n偎岩拍手葫芦舞，过岭穿云拄杖飞。\\n来往八千须半日，金州南畔有松扉。\\n养得儿形似我形，我身枯悴子光精。\\n生生世世常如此，争似留神养自身。\\n精养灵根气养神，此真之外更无真。\\n神仙不肯分明说，迷了千千万万人。\\n'"
      ]
     },
     "execution_count": 45,
     "metadata": {},
     "output_type": "execute_result"
    }
   ],
   "source": [
    "mystr.replace('剑', '刀')"
   ]
  },
  {
   "cell_type": "code",
   "execution_count": 46,
   "metadata": {},
   "outputs": [
    {
     "data": {
      "text/plain": [
       "'\\n莲峰道士高且洁，不下莲宫经岁月。\\n星辰夜礼玉簪寒，龙虎晓开金鼎热。\\n东山东畔忽相逢，握手丁宁语似钟。\\n剑术已成君把去，有蛟龙处斩蛟龙。\\n朝泛苍梧暮却还，洞中日月我为天。\\n匣中宝剑时时吼，不遇同人誓不传。\\n偎岩拍手葫芦舞，过岭穿云拄杖飞。\\n来往八千须半日，金州南畔有松扉。\\n养得儿形似我形，我身枯悴子光精。\\n生生世世常如此，争似留神养自身。\\n精养灵根气养神，此真之外更无真。\\n神仙不肯分明说，迷了千千万万人。\\n'"
      ]
     },
     "execution_count": 46,
     "metadata": {},
     "output_type": "execute_result"
    }
   ],
   "source": [
    "mystr # 原字符串没有发生变化"
   ]
  },
  {
   "cell_type": "code",
   "execution_count": 49,
   "metadata": {},
   "outputs": [
    {
     "data": {
      "text/plain": [
       "'\\n莲峰道士高且洁，不下莲宫经岁月。\\n星辰夜礼玉簪寒，龙虎晓开金鼎热。\\n东山东畔忽相逢，握手丁宁语似钟。\\n锤术已成君把去，有蛟龙处斩蛟龙。\\n朝泛苍梧暮却还，洞中日月我为天。\\n匣中宝剑时时吼，不遇同人誓不传。\\n偎岩拍手葫芦舞，过岭穿云拄杖飞。\\n来往八千须半日，金州南畔有松扉。\\n养得儿形似我形，我身枯悴子光精。\\n生生世世常如此，争似留神养自身。\\n精养灵根气养神，此真之外更无真。\\n神仙不肯分明说，迷了千千万万人。\\n'"
      ]
     },
     "execution_count": 49,
     "metadata": {},
     "output_type": "execute_result"
    }
   ],
   "source": [
    "mystr.replace('剑', '锤', 1)"
   ]
  },
  {
   "cell_type": "code",
   "execution_count": null,
   "metadata": {
    "collapsed": true
   },
   "outputs": [],
   "source": []
  },
  {
   "cell_type": "code",
   "execution_count": null,
   "metadata": {
    "collapsed": true
   },
   "outputs": [],
   "source": []
  },
  {
   "cell_type": "markdown",
   "metadata": {},
   "source": [
    "#### split"
   ]
  },
  {
   "cell_type": "markdown",
   "metadata": {},
   "source": [
    "以 str 为分隔符切片 mystr，如果 maxsplit有指定值，则仅分隔 maxsplit 个子字符串\n",
    "\n",
    "mystr.split(str=\" \", 2)"
   ]
  },
  {
   "cell_type": "code",
   "execution_count": 68,
   "metadata": {},
   "outputs": [
    {
     "data": {
      "text/plain": [
       "'莲峰道士高且洁，不下莲宫经岁月。\\n星辰夜礼玉簪寒，龙虎晓开金鼎热。\\n东山东畔忽相逢，握手丁宁语似钟。\\n剑术已成君把去，有蛟龙处斩蛟龙。\\n朝泛苍梧暮却还，洞中日月我为天。\\n匣中宝剑时时吼，不遇同人誓不传。\\n偎岩拍手葫芦舞，过岭穿云拄杖飞。\\n来往八千须半日，金州南畔有松扉。\\n养得儿形似我形，我身枯悴子光精。\\n生生世世常如此，争似留神养自身。\\n精养灵根气养神，此真之外更无真。\\n神仙不肯分明说，迷了千千万万人。'"
      ]
     },
     "execution_count": 68,
     "metadata": {},
     "output_type": "execute_result"
    }
   ],
   "source": [
    "mystr = '''莲峰道士高且洁，不下莲宫经岁月。\n",
    "星辰夜礼玉簪寒，龙虎晓开金鼎热。\n",
    "东山东畔忽相逢，握手丁宁语似钟。\n",
    "剑术已成君把去，有蛟龙处斩蛟龙。\n",
    "朝泛苍梧暮却还，洞中日月我为天。\n",
    "匣中宝剑时时吼，不遇同人誓不传。\n",
    "偎岩拍手葫芦舞，过岭穿云拄杖飞。\n",
    "来往八千须半日，金州南畔有松扉。\n",
    "养得儿形似我形，我身枯悴子光精。\n",
    "生生世世常如此，争似留神养自身。\n",
    "精养灵根气养神，此真之外更无真。\n",
    "神仙不肯分明说，迷了千千万万人。'''\n",
    "mystr"
   ]
  },
  {
   "cell_type": "code",
   "execution_count": 69,
   "metadata": {},
   "outputs": [
    {
     "data": {
      "text/plain": [
       "['莲峰道士高且洁，不下莲宫经岁月',\n",
       " '\\n星辰夜礼玉簪寒，龙虎晓开金鼎热',\n",
       " '\\n东山东畔忽相逢，握手丁宁语似钟',\n",
       " '\\n剑术已成君把去，有蛟龙处斩蛟龙',\n",
       " '\\n朝泛苍梧暮却还，洞中日月我为天',\n",
       " '\\n匣中宝剑时时吼，不遇同人誓不传',\n",
       " '\\n偎岩拍手葫芦舞，过岭穿云拄杖飞',\n",
       " '\\n来往八千须半日，金州南畔有松扉',\n",
       " '\\n养得儿形似我形，我身枯悴子光精',\n",
       " '\\n生生世世常如此，争似留神养自身',\n",
       " '\\n精养灵根气养神，此真之外更无真',\n",
       " '\\n神仙不肯分明说，迷了千千万万人',\n",
       " '']"
      ]
     },
     "execution_count": 69,
     "metadata": {},
     "output_type": "execute_result"
    }
   ],
   "source": [
    "mylist = mystr.split('。')\n",
    "mylist"
   ]
  },
  {
   "cell_type": "code",
   "execution_count": 70,
   "metadata": {},
   "outputs": [
    {
     "data": {
      "text/plain": [
       "list"
      ]
     },
     "execution_count": 70,
     "metadata": {},
     "output_type": "execute_result"
    }
   ],
   "source": [
    "type(mylist)"
   ]
  },
  {
   "cell_type": "code",
   "execution_count": 62,
   "metadata": {},
   "outputs": [
    {
     "data": {
      "text/plain": [
       "'\\n莲峰道士高且洁，不下莲宫经岁月'"
      ]
     },
     "execution_count": 62,
     "metadata": {},
     "output_type": "execute_result"
    }
   ],
   "source": [
    "mylist[0]"
   ]
  },
  {
   "cell_type": "code",
   "execution_count": 63,
   "metadata": {},
   "outputs": [
    {
     "data": {
      "text/plain": [
       "'\\n星辰夜礼玉簪寒，龙虎晓开金鼎热'"
      ]
     },
     "execution_count": 63,
     "metadata": {},
     "output_type": "execute_result"
    }
   ],
   "source": [
    "mylist[1]"
   ]
  },
  {
   "cell_type": "code",
   "execution_count": 65,
   "metadata": {},
   "outputs": [
    {
     "data": {
      "text/plain": [
       "['\\n剑术已成君把去，有蛟龙处斩蛟龙', '\\n朝泛苍梧暮却还，洞中日月我为天', '\\n匣中宝剑时时吼，不遇同人誓不传']"
      ]
     },
     "execution_count": 65,
     "metadata": {},
     "output_type": "execute_result"
    }
   ],
   "source": [
    "mylist[3:6]"
   ]
  },
  {
   "cell_type": "code",
   "execution_count": 71,
   "metadata": {},
   "outputs": [
    {
     "data": {
      "text/plain": [
       "['莲峰道士高且洁，不下莲宫经岁月。',\n",
       " '星辰夜礼玉簪寒，龙虎晓开金鼎热。',\n",
       " '东山东畔忽相逢，握手丁宁语似钟。',\n",
       " '剑术已成君把去，有蛟龙处斩蛟龙。',\n",
       " '朝泛苍梧暮却还，洞中日月我为天。',\n",
       " '匣中宝剑时时吼，不遇同人誓不传。',\n",
       " '偎岩拍手葫芦舞，过岭穿云拄杖飞。',\n",
       " '来往八千须半日，金州南畔有松扉。',\n",
       " '养得儿形似我形，我身枯悴子光精。',\n",
       " '生生世世常如此，争似留神养自身。',\n",
       " '精养灵根气养神，此真之外更无真。',\n",
       " '神仙不肯分明说，迷了千千万万人。']"
      ]
     },
     "execution_count": 71,
     "metadata": {},
     "output_type": "execute_result"
    }
   ],
   "source": [
    "mylist = mystr.split('\\n') \n",
    "mylist# 换行符就没有了"
   ]
  },
  {
   "cell_type": "code",
   "execution_count": null,
   "metadata": {
    "collapsed": true
   },
   "outputs": [],
   "source": []
  },
  {
   "cell_type": "code",
   "execution_count": null,
   "metadata": {
    "collapsed": true
   },
   "outputs": [],
   "source": []
  },
  {
   "cell_type": "code",
   "execution_count": null,
   "metadata": {
    "collapsed": true
   },
   "outputs": [],
   "source": []
  },
  {
   "cell_type": "markdown",
   "metadata": {},
   "source": [
    "#### splitlines"
   ]
  },
  {
   "cell_type": "markdown",
   "metadata": {},
   "source": [
    "按照行分隔，返回一个包含各行作为元素的列表\n",
    "\n",
    "mystr.splitlines()"
   ]
  },
  {
   "cell_type": "code",
   "execution_count": 72,
   "metadata": {},
   "outputs": [
    {
     "data": {
      "text/plain": [
       "'莲峰道士高且洁，不下莲宫经岁月。\\n星辰夜礼玉簪寒，龙虎晓开金鼎热。\\n东山东畔忽相逢，握手丁宁语似钟。\\n剑术已成君把去，有蛟龙处斩蛟龙。\\n朝泛苍梧暮却还，洞中日月我为天。\\n匣中宝剑时时吼，不遇同人誓不传。\\n偎岩拍手葫芦舞，过岭穿云拄杖飞。\\n来往八千须半日，金州南畔有松扉。\\n养得儿形似我形，我身枯悴子光精。\\n生生世世常如此，争似留神养自身。\\n精养灵根气养神，此真之外更无真。\\n神仙不肯分明说，迷了千千万万人。'"
      ]
     },
     "execution_count": 72,
     "metadata": {},
     "output_type": "execute_result"
    }
   ],
   "source": [
    "mystr"
   ]
  },
  {
   "cell_type": "code",
   "execution_count": 73,
   "metadata": {},
   "outputs": [
    {
     "data": {
      "text/plain": [
       "['莲峰道士高且洁，不下莲宫经岁月。',\n",
       " '星辰夜礼玉簪寒，龙虎晓开金鼎热。',\n",
       " '东山东畔忽相逢，握手丁宁语似钟。',\n",
       " '剑术已成君把去，有蛟龙处斩蛟龙。',\n",
       " '朝泛苍梧暮却还，洞中日月我为天。',\n",
       " '匣中宝剑时时吼，不遇同人誓不传。',\n",
       " '偎岩拍手葫芦舞，过岭穿云拄杖飞。',\n",
       " '来往八千须半日，金州南畔有松扉。',\n",
       " '养得儿形似我形，我身枯悴子光精。',\n",
       " '生生世世常如此，争似留神养自身。',\n",
       " '精养灵根气养神，此真之外更无真。',\n",
       " '神仙不肯分明说，迷了千千万万人。']"
      ]
     },
     "execution_count": 73,
     "metadata": {},
     "output_type": "execute_result"
    }
   ],
   "source": [
    "mystr.splitlines() # mystr.split('\\n') "
   ]
  },
  {
   "cell_type": "code",
   "execution_count": 74,
   "metadata": {},
   "outputs": [
    {
     "data": {
      "text/plain": [
       "['莲峰道士高且洁，不下莲宫经岁月。\\n',\n",
       " '星辰夜礼玉簪寒，龙虎晓开金鼎热。\\n',\n",
       " '东山东畔忽相逢，握手丁宁语似钟。\\n',\n",
       " '剑术已成君把去，有蛟龙处斩蛟龙。\\n',\n",
       " '朝泛苍梧暮却还，洞中日月我为天。\\n',\n",
       " '匣中宝剑时时吼，不遇同人誓不传。\\n',\n",
       " '偎岩拍手葫芦舞，过岭穿云拄杖飞。\\n',\n",
       " '来往八千须半日，金州南畔有松扉。\\n',\n",
       " '养得儿形似我形，我身枯悴子光精。\\n',\n",
       " '生生世世常如此，争似留神养自身。\\n',\n",
       " '精养灵根气养神，此真之外更无真。\\n',\n",
       " '神仙不肯分明说，迷了千千万万人。']"
      ]
     },
     "execution_count": 74,
     "metadata": {},
     "output_type": "execute_result"
    }
   ],
   "source": [
    "mystr.splitlines(True)  #换行符将会予以保留"
   ]
  },
  {
   "cell_type": "code",
   "execution_count": null,
   "metadata": {
    "collapsed": true
   },
   "outputs": [],
   "source": []
  },
  {
   "cell_type": "markdown",
   "metadata": {},
   "source": [
    "#### partition\n",
    "\n",
    "把mystr以str分割成三部分,str前，str和str后\n",
    "\n",
    "mystr.partition(str)"
   ]
  },
  {
   "cell_type": "code",
   "execution_count": 77,
   "metadata": {
    "collapsed": true
   },
   "outputs": [],
   "source": [
    "str_2 = '有蛟龙处斩蛟龙'"
   ]
  },
  {
   "cell_type": "code",
   "execution_count": 78,
   "metadata": {},
   "outputs": [
    {
     "data": {
      "text/plain": [
       "('有蛟龙', '处', '斩蛟龙')"
      ]
     },
     "execution_count": 78,
     "metadata": {},
     "output_type": "execute_result"
    }
   ],
   "source": [
    "str_2.partition('处')"
   ]
  },
  {
   "cell_type": "code",
   "execution_count": 79,
   "metadata": {},
   "outputs": [
    {
     "data": {
      "text/plain": [
       "('有', '蛟龙', '处斩蛟龙')"
      ]
     },
     "execution_count": 79,
     "metadata": {},
     "output_type": "execute_result"
    }
   ],
   "source": [
    "str_2.partition('蛟龙')"
   ]
  },
  {
   "cell_type": "code",
   "execution_count": 80,
   "metadata": {},
   "outputs": [
    {
     "data": {
      "text/plain": [
       "'有'"
      ]
     },
     "execution_count": 80,
     "metadata": {},
     "output_type": "execute_result"
    }
   ],
   "source": [
    "str_2.partition('蛟龙')[0]"
   ]
  },
  {
   "cell_type": "code",
   "execution_count": 81,
   "metadata": {},
   "outputs": [
    {
     "data": {
      "text/plain": [
       "'处斩蛟龙'"
      ]
     },
     "execution_count": 81,
     "metadata": {},
     "output_type": "execute_result"
    }
   ],
   "source": [
    "str_2.partition('蛟龙')[-1]"
   ]
  },
  {
   "cell_type": "code",
   "execution_count": 82,
   "metadata": {},
   "outputs": [
    {
     "data": {
      "text/plain": [
       "'蛟龙'"
      ]
     },
     "execution_count": 82,
     "metadata": {},
     "output_type": "execute_result"
    }
   ],
   "source": [
    "str_2.partition('蛟龙')[1]"
   ]
  },
  {
   "cell_type": "markdown",
   "metadata": {},
   "source": [
    "#### lower"
   ]
  },
  {
   "cell_type": "markdown",
   "metadata": {},
   "source": [
    "转换 mystr 中所有大写字符为小写 mystr.lower()"
   ]
  },
  {
   "cell_type": "code",
   "execution_count": 84,
   "metadata": {},
   "outputs": [
    {
     "data": {
      "text/plain": [
       "'Keep On going never Give up.'"
      ]
     },
     "execution_count": 84,
     "metadata": {},
     "output_type": "execute_result"
    }
   ],
   "source": [
    "a_str = 'Keep On going never Give up.'\n",
    "a_str"
   ]
  },
  {
   "cell_type": "code",
   "execution_count": 85,
   "metadata": {},
   "outputs": [
    {
     "data": {
      "text/plain": [
       "'keep on going never give up.'"
      ]
     },
     "execution_count": 85,
     "metadata": {},
     "output_type": "execute_result"
    }
   ],
   "source": [
    "a_str.lower()"
   ]
  },
  {
   "cell_type": "code",
   "execution_count": null,
   "metadata": {
    "collapsed": true
   },
   "outputs": [],
   "source": []
  },
  {
   "cell_type": "markdown",
   "metadata": {},
   "source": [
    "#### upper"
   ]
  },
  {
   "cell_type": "markdown",
   "metadata": {},
   "source": [
    "转换 mystr 中的小写字母为大写 mystr.upper()"
   ]
  },
  {
   "cell_type": "code",
   "execution_count": 86,
   "metadata": {},
   "outputs": [
    {
     "data": {
      "text/plain": [
       "'KEEP ON GOING NEVER GIVE UP.'"
      ]
     },
     "execution_count": 86,
     "metadata": {},
     "output_type": "execute_result"
    }
   ],
   "source": [
    "a_str.upper()"
   ]
  },
  {
   "cell_type": "markdown",
   "metadata": {},
   "source": [
    "#### strip"
   ]
  },
  {
   "cell_type": "markdown",
   "metadata": {},
   "source": [
    "当不传入参数时, 删除mystr字符串两端的空白字符, 或指定字符\n",
    "\n",
    "传入参数, 则删除两端传入的字符串"
   ]
  },
  {
   "cell_type": "code",
   "execution_count": 87,
   "metadata": {
    "collapsed": true
   },
   "outputs": [],
   "source": [
    "b_str = ' a1234567 '"
   ]
  },
  {
   "cell_type": "code",
   "execution_count": 88,
   "metadata": {},
   "outputs": [
    {
     "data": {
      "text/plain": [
       "'a1234567'"
      ]
     },
     "execution_count": 88,
     "metadata": {},
     "output_type": "execute_result"
    }
   ],
   "source": [
    "b_str.strip()"
   ]
  },
  {
   "cell_type": "code",
   "execution_count": 89,
   "metadata": {
    "collapsed": true
   },
   "outputs": [],
   "source": [
    "c_str = ' a1234567 \\n\\t'"
   ]
  },
  {
   "cell_type": "code",
   "execution_count": 90,
   "metadata": {},
   "outputs": [
    {
     "data": {
      "text/plain": [
       "'a1234567'"
      ]
     },
     "execution_count": 90,
     "metadata": {},
     "output_type": "execute_result"
    }
   ],
   "source": [
    "c_str.strip()"
   ]
  },
  {
   "cell_type": "code",
   "execution_count": 91,
   "metadata": {
    "collapsed": true
   },
   "outputs": [],
   "source": [
    "d_str = 'a123 4545 ' # 在字符串中间的空白字符并不会被去除"
   ]
  },
  {
   "cell_type": "code",
   "execution_count": 92,
   "metadata": {},
   "outputs": [
    {
     "data": {
      "text/plain": [
       "'a123 4545'"
      ]
     },
     "execution_count": 92,
     "metadata": {},
     "output_type": "execute_result"
    }
   ],
   "source": [
    "d_str.strip()"
   ]
  },
  {
   "cell_type": "code",
   "execution_count": 93,
   "metadata": {
    "collapsed": true
   },
   "outputs": [],
   "source": [
    "e_str = '-Abcdef abk-'"
   ]
  },
  {
   "cell_type": "code",
   "execution_count": 94,
   "metadata": {},
   "outputs": [
    {
     "data": {
      "text/plain": [
       "'-Abcdef abk-'"
      ]
     },
     "execution_count": 94,
     "metadata": {},
     "output_type": "execute_result"
    }
   ],
   "source": [
    "e_str.strip()"
   ]
  },
  {
   "cell_type": "code",
   "execution_count": 95,
   "metadata": {},
   "outputs": [
    {
     "data": {
      "text/plain": [
       "'Abcdef abk'"
      ]
     },
     "execution_count": 95,
     "metadata": {},
     "output_type": "execute_result"
    }
   ],
   "source": [
    "e_str.strip('-')"
   ]
  },
  {
   "cell_type": "code",
   "execution_count": 96,
   "metadata": {},
   "outputs": [
    {
     "data": {
      "text/plain": [
       "'bcdef abk'"
      ]
     },
     "execution_count": 96,
     "metadata": {},
     "output_type": "execute_result"
    }
   ],
   "source": [
    "e_str.strip('-').strip('A')"
   ]
  },
  {
   "cell_type": "code",
   "execution_count": 97,
   "metadata": {},
   "outputs": [
    {
     "data": {
      "text/plain": [
       "'bcdef ab'"
      ]
     },
     "execution_count": 97,
     "metadata": {},
     "output_type": "execute_result"
    }
   ],
   "source": [
    "e_str.strip('-').strip('A').strip('k')"
   ]
  },
  {
   "cell_type": "code",
   "execution_count": null,
   "metadata": {
    "collapsed": true
   },
   "outputs": [],
   "source": []
  },
  {
   "cell_type": "code",
   "execution_count": null,
   "metadata": {
    "collapsed": true
   },
   "outputs": [],
   "source": []
  },
  {
   "cell_type": "markdown",
   "metadata": {},
   "source": [
    "#### join"
   ]
  },
  {
   "cell_type": "markdown",
   "metadata": {},
   "source": [
    "str 中每个字符后面插入mystr,构造出一个新的字符串\n",
    "\n",
    "mystr.join(str)"
   ]
  },
  {
   "cell_type": "code",
   "execution_count": 98,
   "metadata": {
    "collapsed": true
   },
   "outputs": [],
   "source": [
    "k_str = \"<==============|----\""
   ]
  },
  {
   "cell_type": "code",
   "execution_count": 99,
   "metadata": {
    "collapsed": true
   },
   "outputs": [],
   "source": [
    "a = '有蛟龙处斩蛟龙'"
   ]
  },
  {
   "cell_type": "code",
   "execution_count": 100,
   "metadata": {},
   "outputs": [
    {
     "data": {
      "text/plain": [
       "'有<==============|----蛟<==============|----龙<==============|----处<==============|----斩<==============|----蛟<==============|----龙'"
      ]
     },
     "execution_count": 100,
     "metadata": {},
     "output_type": "execute_result"
    }
   ],
   "source": [
    "k_str.join(a)"
   ]
  },
  {
   "cell_type": "code",
   "execution_count": 101,
   "metadata": {},
   "outputs": [
    {
     "data": {
      "text/plain": [
       "'<有蛟龙处斩蛟龙=有蛟龙处斩蛟龙=有蛟龙处斩蛟龙=有蛟龙处斩蛟龙=有蛟龙处斩蛟龙=有蛟龙处斩蛟龙=有蛟龙处斩蛟龙=有蛟龙处斩蛟龙=有蛟龙处斩蛟龙=有蛟龙处斩蛟龙=有蛟龙处斩蛟龙=有蛟龙处斩蛟龙=有蛟龙处斩蛟龙=有蛟龙处斩蛟龙=有蛟龙处斩蛟龙|有蛟龙处斩蛟龙-有蛟龙处斩蛟龙-有蛟龙处斩蛟龙-有蛟龙处斩蛟龙-'"
      ]
     },
     "execution_count": 101,
     "metadata": {},
     "output_type": "execute_result"
    }
   ],
   "source": [
    "a.join(k_str)"
   ]
  },
  {
   "cell_type": "code",
   "execution_count": 102,
   "metadata": {
    "collapsed": true
   },
   "outputs": [],
   "source": [
    "j_str = '=='"
   ]
  },
  {
   "cell_type": "code",
   "execution_count": 103,
   "metadata": {},
   "outputs": [
    {
     "data": {
      "text/plain": [
       "'a==b==c==d'"
      ]
     },
     "execution_count": 103,
     "metadata": {},
     "output_type": "execute_result"
    }
   ],
   "source": [
    "j_str.join(['a', 'b', 'c', 'd'])"
   ]
  },
  {
   "cell_type": "code",
   "execution_count": 104,
   "metadata": {
    "collapsed": true
   },
   "outputs": [],
   "source": [
    "a = '有蛟龙处斩蛟龙'"
   ]
  },
  {
   "cell_type": "code",
   "execution_count": 105,
   "metadata": {},
   "outputs": [
    {
     "data": {
      "text/plain": [
       "'有蛟龙处斩蛟龙'"
      ]
     },
     "execution_count": 105,
     "metadata": {},
     "output_type": "execute_result"
    }
   ],
   "source": [
    "a"
   ]
  },
  {
   "cell_type": "code",
   "execution_count": 106,
   "metadata": {},
   "outputs": [
    {
     "data": {
      "text/plain": [
       "'有 蛟 龙 处 斩 蛟 龙'"
      ]
     },
     "execution_count": 106,
     "metadata": {},
     "output_type": "execute_result"
    }
   ],
   "source": [
    "' '.join(a)"
   ]
  },
  {
   "cell_type": "code",
   "execution_count": null,
   "metadata": {
    "collapsed": true
   },
   "outputs": [],
   "source": []
  },
  {
   "cell_type": "code",
   "execution_count": null,
   "metadata": {
    "collapsed": true
   },
   "outputs": [],
   "source": []
  },
  {
   "cell_type": "code",
   "execution_count": null,
   "metadata": {
    "collapsed": true
   },
   "outputs": [],
   "source": []
  },
  {
   "cell_type": "code",
   "execution_count": null,
   "metadata": {
    "collapsed": true
   },
   "outputs": [],
   "source": []
  },
  {
   "cell_type": "code",
   "execution_count": null,
   "metadata": {
    "collapsed": true
   },
   "outputs": [],
   "source": []
  },
  {
   "cell_type": "code",
   "execution_count": null,
   "metadata": {
    "collapsed": true
   },
   "outputs": [],
   "source": []
  },
  {
   "cell_type": "code",
   "execution_count": null,
   "metadata": {
    "collapsed": true
   },
   "outputs": [],
   "source": []
  },
  {
   "cell_type": "code",
   "execution_count": null,
   "metadata": {
    "collapsed": true
   },
   "outputs": [],
   "source": []
  },
  {
   "cell_type": "code",
   "execution_count": null,
   "metadata": {
    "collapsed": true
   },
   "outputs": [],
   "source": []
  },
  {
   "cell_type": "code",
   "execution_count": null,
   "metadata": {
    "collapsed": true
   },
   "outputs": [],
   "source": []
  },
  {
   "cell_type": "code",
   "execution_count": null,
   "metadata": {
    "collapsed": true
   },
   "outputs": [],
   "source": []
  },
  {
   "cell_type": "code",
   "execution_count": null,
   "metadata": {
    "collapsed": true
   },
   "outputs": [],
   "source": []
  },
  {
   "cell_type": "code",
   "execution_count": null,
   "metadata": {
    "collapsed": true
   },
   "outputs": [],
   "source": []
  },
  {
   "cell_type": "code",
   "execution_count": null,
   "metadata": {
    "collapsed": true
   },
   "outputs": [],
   "source": []
  },
  {
   "cell_type": "code",
   "execution_count": null,
   "metadata": {
    "collapsed": true
   },
   "outputs": [],
   "source": []
  },
  {
   "cell_type": "code",
   "execution_count": null,
   "metadata": {
    "collapsed": true
   },
   "outputs": [],
   "source": []
  },
  {
   "cell_type": "code",
   "execution_count": null,
   "metadata": {
    "collapsed": true
   },
   "outputs": [],
   "source": []
  },
  {
   "cell_type": "code",
   "execution_count": null,
   "metadata": {
    "collapsed": true
   },
   "outputs": [],
   "source": []
  },
  {
   "cell_type": "code",
   "execution_count": null,
   "metadata": {
    "collapsed": true
   },
   "outputs": [],
   "source": []
  },
  {
   "cell_type": "code",
   "execution_count": null,
   "metadata": {
    "collapsed": true
   },
   "outputs": [],
   "source": []
  },
  {
   "cell_type": "code",
   "execution_count": null,
   "metadata": {
    "collapsed": true
   },
   "outputs": [],
   "source": []
  },
  {
   "cell_type": "code",
   "execution_count": null,
   "metadata": {
    "collapsed": true
   },
   "outputs": [],
   "source": []
  },
  {
   "cell_type": "code",
   "execution_count": null,
   "metadata": {
    "collapsed": true
   },
   "outputs": [],
   "source": []
  },
  {
   "cell_type": "code",
   "execution_count": null,
   "metadata": {
    "collapsed": true
   },
   "outputs": [],
   "source": []
  },
  {
   "cell_type": "code",
   "execution_count": null,
   "metadata": {
    "collapsed": true
   },
   "outputs": [],
   "source": []
  },
  {
   "cell_type": "code",
   "execution_count": null,
   "metadata": {
    "collapsed": true
   },
   "outputs": [],
   "source": []
  }
 ],
 "metadata": {
  "kernelspec": {
   "display_name": "Python 3",
   "language": "python",
   "name": "python3"
  },
  "language_info": {
   "codemirror_mode": {
    "name": "ipython",
    "version": 3
   },
   "file_extension": ".py",
   "mimetype": "text/x-python",
   "name": "python",
   "nbconvert_exporter": "python",
   "pygments_lexer": "ipython3",
   "version": "3.7.0"
  },
  "toc": {
   "base_numbering": 1,
   "nav_menu": {},
   "number_sections": true,
   "sideBar": true,
   "skip_h1_title": true,
   "title_cell": "目录",
   "title_sidebar": "目录",
   "toc_cell": false,
   "toc_position": {
    "height": "calc(100% - 180px)",
    "left": "10px",
    "top": "150px",
    "width": "272px"
   },
   "toc_section_display": true,
   "toc_window_display": true
  },
  "varInspector": {
   "cols": {
    "lenName": 16,
    "lenType": 16,
    "lenVar": 40
   },
   "kernels_config": {
    "python": {
     "delete_cmd_postfix": "",
     "delete_cmd_prefix": "del ",
     "library": "var_list.py",
     "varRefreshCmd": "print(var_dic_list())"
    },
    "r": {
     "delete_cmd_postfix": ") ",
     "delete_cmd_prefix": "rm(",
     "library": "var_list.r",
     "varRefreshCmd": "cat(var_dic_list()) "
    }
   },
   "types_to_exclude": [
    "module",
    "function",
    "builtin_function_or_method",
    "instance",
    "_Feature"
   ],
   "window_display": false
  }
 },
 "nbformat": 4,
 "nbformat_minor": 2
}
