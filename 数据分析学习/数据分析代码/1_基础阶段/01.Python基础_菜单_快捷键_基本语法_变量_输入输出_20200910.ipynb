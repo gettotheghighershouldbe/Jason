{
 "cells": [
  {
   "cell_type": "markdown",
   "metadata": {
    "toc": true
   },
   "source": [
    "<h1>Table of Contents<span class=\"tocSkip\"></span></h1>\n",
    "<div class=\"toc\"><ul class=\"toc-item\"><li><span><a href=\"#使用前的一些基本说明\" data-toc-modified-id=\"使用前的一些基本说明-1\"><span class=\"toc-item-num\">1&nbsp;&nbsp;</span>使用前的一些基本说明</a></span><ul class=\"toc-item\"><li><span><a href=\"#Jupyter-notebook使用/快捷键\" data-toc-modified-id=\"Jupyter-notebook使用/快捷键-1.1\"><span class=\"toc-item-num\">1.1&nbsp;&nbsp;</span>Jupyter notebook使用/快捷键</a></span><ul class=\"toc-item\"><li><span><a href=\"#操作模式\" data-toc-modified-id=\"操作模式-1.1.1\"><span class=\"toc-item-num\">1.1.1&nbsp;&nbsp;</span>操作模式</a></span></li><li><span><a href=\"#单元格cell\" data-toc-modified-id=\"单元格cell-1.1.2\"><span class=\"toc-item-num\">1.1.2&nbsp;&nbsp;</span>单元格cell</a></span></li><li><span><a href=\"#快捷键\" data-toc-modified-id=\"快捷键-1.1.3\"><span class=\"toc-item-num\">1.1.3&nbsp;&nbsp;</span>快捷键</a></span></li></ul></li><li><span><a href=\"#Markdown的基本语法\" data-toc-modified-id=\"Markdown的基本语法-1.2\"><span class=\"toc-item-num\">1.2&nbsp;&nbsp;</span>Markdown的基本语法</a></span></li><li><span><a href=\"#必须要改成Markdown模式才能编辑文本\" data-toc-modified-id=\"必须要改成Markdown模式才能编辑文本-1.3\"><span class=\"toc-item-num\">1.3&nbsp;&nbsp;</span>必须要改成Markdown模式才能编辑文本</a></span></li><li><span><a href=\"#二级标题\" data-toc-modified-id=\"二级标题-1.4\"><span class=\"toc-item-num\">1.4&nbsp;&nbsp;</span>二级标题</a></span><ul class=\"toc-item\"><li><span><a href=\"#三级标题\" data-toc-modified-id=\"三级标题-1.4.1\"><span class=\"toc-item-num\">1.4.1&nbsp;&nbsp;</span>三级标题</a></span></li><li><span><a href=\"#四级标题\" data-toc-modified-id=\"四级标题-1.4.2\"><span class=\"toc-item-num\">1.4.2&nbsp;&nbsp;</span>四级标题</a></span></li></ul></li></ul></li><li><span><a href=\"#python的基本语法\" data-toc-modified-id=\"python的基本语法-2\"><span class=\"toc-item-num\">2&nbsp;&nbsp;</span>python的基本语法</a></span><ul class=\"toc-item\"><li><span><a href=\"#基础前置知识\" data-toc-modified-id=\"基础前置知识-2.1\"><span class=\"toc-item-num\">2.1&nbsp;&nbsp;</span>基础前置知识</a></span><ul class=\"toc-item\"><li><span><a href=\"#数字和字符串定义方法\" data-toc-modified-id=\"数字和字符串定义方法-2.1.1\"><span class=\"toc-item-num\">2.1.1&nbsp;&nbsp;</span>数字和字符串定义方法</a></span></li><li><span><a href=\"#布尔数据类型bool\" data-toc-modified-id=\"布尔数据类型bool-2.1.2\"><span class=\"toc-item-num\">2.1.2&nbsp;&nbsp;</span>布尔数据类型bool</a></span></li><li><span><a href=\"#jupyter默认输出功能\" data-toc-modified-id=\"jupyter默认输出功能-2.1.3\"><span class=\"toc-item-num\">2.1.3&nbsp;&nbsp;</span>jupyter默认输出功能</a></span></li><li><span><a href=\"#In[]-Out[]中括号中的数字,-以及星号,-打断功能\" data-toc-modified-id=\"In[]-Out[]中括号中的数字,-以及星号,-打断功能-2.1.4\"><span class=\"toc-item-num\">2.1.4&nbsp;&nbsp;</span>In[] Out[]中括号中的数字, 以及星号, 打断功能</a></span></li></ul></li></ul></li><li><span><a href=\"#内置函数\" data-toc-modified-id=\"内置函数-3\"><span class=\"toc-item-num\">3&nbsp;&nbsp;</span>内置函数</a></span><ul class=\"toc-item\"><li><span><a href=\"#print函数\" data-toc-modified-id=\"print函数-3.1\"><span class=\"toc-item-num\">3.1&nbsp;&nbsp;</span>print函数</a></span><ul class=\"toc-item\"><li><span><a href=\"#打印单个值,-打印空行\" data-toc-modified-id=\"打印单个值,-打印空行-3.1.1\"><span class=\"toc-item-num\">3.1.1&nbsp;&nbsp;</span>打印单个值, 打印空行</a></span></li><li><span><a href=\"#小练习\" data-toc-modified-id=\"小练习-3.1.2\"><span class=\"toc-item-num\">3.1.2&nbsp;&nbsp;</span>小练习</a></span></li></ul></li><li><span><a href=\"#python的注释功能\" data-toc-modified-id=\"python的注释功能-3.2\"><span class=\"toc-item-num\">3.2&nbsp;&nbsp;</span>python的注释功能</a></span></li><li><span><a href=\"#input文本输入框\" data-toc-modified-id=\"input文本输入框-3.3\"><span class=\"toc-item-num\">3.3&nbsp;&nbsp;</span>input文本输入框</a></span><ul class=\"toc-item\"><li><span><a href=\"#练习题\" data-toc-modified-id=\"练习题-3.3.1\"><span class=\"toc-item-num\">3.3.1&nbsp;&nbsp;</span>练习题</a></span></li></ul></li></ul></li><li><span><a href=\"#变量\" data-toc-modified-id=\"变量-4\"><span class=\"toc-item-num\">4&nbsp;&nbsp;</span>变量</a></span><ul class=\"toc-item\"><li><span><a href=\"#变量的赋值\" data-toc-modified-id=\"变量的赋值-4.1\"><span class=\"toc-item-num\">4.1&nbsp;&nbsp;</span>变量的赋值</a></span></li><li><span><a href=\"#变量的命名规则\" data-toc-modified-id=\"变量的命名规则-4.2\"><span class=\"toc-item-num\">4.2&nbsp;&nbsp;</span>变量的命名规则</a></span></li><li><span><a href=\"#内部保留关键字\" data-toc-modified-id=\"内部保留关键字-4.3\"><span class=\"toc-item-num\">4.3&nbsp;&nbsp;</span>内部保留关键字</a></span><ul class=\"toc-item\"><li><span><a href=\"#已存在函数名\" data-toc-modified-id=\"已存在函数名-4.3.1\"><span class=\"toc-item-num\">4.3.1&nbsp;&nbsp;</span>已存在函数名</a></span></li></ul></li><li><span><a href=\"#同时为多个变量赋值\" data-toc-modified-id=\"同时为多个变量赋值-4.4\"><span class=\"toc-item-num\">4.4&nbsp;&nbsp;</span>同时为多个变量赋值</a></span></li></ul></li></ul></div>"
   ]
  },
  {
   "cell_type": "markdown",
   "metadata": {},
   "source": [
    "# 使用前的一些基本说明"
   ]
  },
  {
   "cell_type": "markdown",
   "metadata": {},
   "source": [
    "学习一个新知识之前，先全局的了解知识体系。    \n",
    "对整体框架有一定的把握之后，咱们接下来需要：\n",
    "    - 认真听课\n",
    "    - 多敲代码\n",
    "    - 多思考多问\n",
    "    - 及时复习"
   ]
  },
  {
   "cell_type": "markdown",
   "metadata": {},
   "source": [
    "## Jupyter notebook使用/快捷键"
   ]
  },
  {
   "cell_type": "markdown",
   "metadata": {},
   "source": [
    "在学习编程之前, 咱们对自己将要使用的工具还是要有一定程度的了解, 对于提升生产力很有帮助!"
   ]
  },
  {
   "cell_type": "markdown",
   "metadata": {},
   "source": [
    "### 操作模式"
   ]
  },
  {
   "cell_type": "markdown",
   "metadata": {},
   "source": [
    "首先, notebook分为两种模式:编辑模式和命令模式:\n",
    "1. 编辑模式: 有光标存在即为编辑模式, 编辑模式下可以输入内容.\n",
    "2. 命令模式: 没有光标, 侧边栏为蓝色时为命令模式, 命令模式下,各种按键会作为各种功能的快捷键, 所以如果你按键之后出现莫名其妙的反应, 检查自己是不是处于命令模式. \n",
    "\n"
   ]
  },
  {
   "cell_type": "markdown",
   "metadata": {},
   "source": [
    "### 单元格cell"
   ]
  },
  {
   "cell_type": "markdown",
   "metadata": {},
   "source": [
    "单元格分为三种模式，分别为：\n",
    "1. 代码模式：Code\n",
    "2. MarkDown 文本模式：MarkDown\n",
    "3. 纯文本模式：Raw"
   ]
  },
  {
   "cell_type": "markdown",
   "metadata": {},
   "source": [
    "### 快捷键"
   ]
  },
  {
   "cell_type": "markdown",
   "metadata": {},
   "source": [
    "1. 运行代码 3个快捷键:不要求都了解, 找一两个习惯的使用就可以.\n",
    "    - ctrl + Enter  运行当前单元格, 并将焦点停留在当前单元格\n",
    "    - Alt + Enter  运行当前单元格, 并在下方插入一个新的单元格\n",
    "    - Shift + Enter 运行当前单元格, 并跳到下一个单元格\n",
    "2. 插入快捷键2个: B(below)向下插入单元格, A(above)向上方插入单元格\n",
    "3. 剪切快捷键一个: X\n",
    "4. 粘贴快捷键: V\n",
    "\n",
    "其他快捷键可以通过菜单栏中的小键盘进行查询."
   ]
  },
  {
   "cell_type": "code",
   "execution_count": null,
   "metadata": {},
   "outputs": [],
   "source": []
  },
  {
   "cell_type": "markdown",
   "metadata": {},
   "source": [
    "## Markdown的基本语法\n",
    "\n",
    "Markdown是一种轻量级标记语言, 用于写非代码部分的文本文档"
   ]
  },
  {
   "cell_type": "markdown",
   "metadata": {},
   "source": [
    "## 必须要改成Markdown模式才能编辑文本"
   ]
  },
  {
   "cell_type": "markdown",
   "metadata": {},
   "source": [
    "## 二级标题"
   ]
  },
  {
   "cell_type": "markdown",
   "metadata": {},
   "source": [
    "### 三级标题"
   ]
  },
  {
   "cell_type": "markdown",
   "metadata": {},
   "source": [
    "### 四级标题"
   ]
  },
  {
   "cell_type": "markdown",
   "metadata": {},
   "source": [
    "**加粗**"
   ]
  },
  {
   "cell_type": "markdown",
   "metadata": {},
   "source": [
    "*斜体*"
   ]
  },
  {
   "cell_type": "markdown",
   "metadata": {},
   "source": [
    "有序列表\n",
    "\n",
    "1. 列表\n",
    "2. 再来一个\n",
    "3. 就是这样\n",
    "\n",
    "无序列表\n",
    "\n",
    "- 无序列表1\n",
    "- 无序列表2\n",
    "- 无序列表3"
   ]
  },
  {
   "cell_type": "markdown",
   "metadata": {},
   "source": []
  },
  {
   "cell_type": "markdown",
   "metadata": {},
   "source": [
    "a = 1\n",
    "b = 2"
   ]
  },
  {
   "cell_type": "markdown",
   "metadata": {},
   "source": [
    "第一种方法: 命令模式按M键\n",
    "第二种方法: 上面鼠标改一下cell模式"
   ]
  },
  {
   "cell_type": "markdown",
   "metadata": {},
   "source": [
    "# python的基本语法"
   ]
  },
  {
   "cell_type": "markdown",
   "metadata": {},
   "source": [
    "## 基础前置知识"
   ]
  },
  {
   "cell_type": "markdown",
   "metadata": {},
   "source": [
    "### 数字和字符串定义方法"
   ]
  },
  {
   "cell_type": "code",
   "execution_count": 5,
   "metadata": {},
   "outputs": [],
   "source": [
    "a = 1"
   ]
  },
  {
   "cell_type": "code",
   "execution_count": 6,
   "metadata": {},
   "outputs": [
    {
     "data": {
      "text/plain": [
       "1"
      ]
     },
     "execution_count": 6,
     "metadata": {},
     "output_type": "execute_result"
    }
   ],
   "source": [
    "a"
   ]
  },
  {
   "cell_type": "code",
   "execution_count": 13,
   "metadata": {},
   "outputs": [],
   "source": [
    "c = 123"
   ]
  },
  {
   "cell_type": "code",
   "execution_count": 14,
   "metadata": {},
   "outputs": [],
   "source": [
    "f = 3.1415926"
   ]
  },
  {
   "cell_type": "code",
   "execution_count": 4,
   "metadata": {},
   "outputs": [
    {
     "data": {
      "text/plain": [
       "1"
      ]
     },
     "execution_count": 4,
     "metadata": {},
     "output_type": "execute_result"
    }
   ],
   "source": [
    "# 数值型定义方法\n",
    "a = 1"
   ]
  },
  {
   "cell_type": "code",
   "execution_count": 15,
   "metadata": {},
   "outputs": [],
   "source": [
    "# 字符串定义方法\n",
    "a = \"所扥森所扥森森\" "
   ]
  },
  {
   "cell_type": "code",
   "execution_count": 16,
   "metadata": {},
   "outputs": [],
   "source": [
    "a ='sdfewsf'"
   ]
  },
  {
   "cell_type": "markdown",
   "metadata": {},
   "source": [
    "### 布尔数据类型bool"
   ]
  },
  {
   "cell_type": "markdown",
   "metadata": {},
   "source": [
    "布尔数据类型就是我们常说的真和假，只有两个值构成，True和False"
   ]
  },
  {
   "cell_type": "code",
   "execution_count": 17,
   "metadata": {},
   "outputs": [],
   "source": [
    "a = True"
   ]
  },
  {
   "cell_type": "code",
   "execution_count": 18,
   "metadata": {},
   "outputs": [],
   "source": [
    "b = False"
   ]
  },
  {
   "cell_type": "code",
   "execution_count": 11,
   "metadata": {
    "collapsed": true
   },
   "outputs": [],
   "source": [
    "a = True"
   ]
  },
  {
   "cell_type": "code",
   "execution_count": 12,
   "metadata": {
    "collapsed": true
   },
   "outputs": [],
   "source": [
    "b = False"
   ]
  },
  {
   "cell_type": "markdown",
   "metadata": {},
   "source": [
    "一个判断表达式，返回的结果则为布尔类型"
   ]
  },
  {
   "cell_type": "code",
   "execution_count": 7,
   "metadata": {},
   "outputs": [
    {
     "data": {
      "text/plain": [
       "False"
      ]
     },
     "execution_count": 7,
     "metadata": {},
     "output_type": "execute_result"
    }
   ],
   "source": [
    "3 > 4"
   ]
  },
  {
   "cell_type": "code",
   "execution_count": 8,
   "metadata": {},
   "outputs": [
    {
     "data": {
      "text/plain": [
       "True"
      ]
     },
     "execution_count": 8,
     "metadata": {},
     "output_type": "execute_result"
    }
   ],
   "source": [
    "4 > 3"
   ]
  },
  {
   "cell_type": "markdown",
   "metadata": {},
   "source": [
    "### jupyter默认输出功能\n",
    "\n",
    "默认情况下, 最后一行代码, 如果可以输出结果, 就会自动在下方输出."
   ]
  },
  {
   "cell_type": "code",
   "execution_count": 24,
   "metadata": {},
   "outputs": [],
   "source": [
    "a = 1"
   ]
  },
  {
   "cell_type": "code",
   "execution_count": 23,
   "metadata": {},
   "outputs": [],
   "source": [
    "a\n",
    "b = 2"
   ]
  },
  {
   "cell_type": "code",
   "execution_count": 9,
   "metadata": {},
   "outputs": [
    {
     "data": {
      "text/plain": [
       "3"
      ]
     },
     "execution_count": 9,
     "metadata": {},
     "output_type": "execute_result"
    }
   ],
   "source": [
    "a = 1\n",
    "b = 2\n",
    "a + b"
   ]
  },
  {
   "cell_type": "code",
   "execution_count": 16,
   "metadata": {},
   "outputs": [],
   "source": [
    "c = 6"
   ]
  },
  {
   "cell_type": "code",
   "execution_count": 15,
   "metadata": {},
   "outputs": [
    {
     "data": {
      "text/plain": [
       "2"
      ]
     },
     "execution_count": 15,
     "metadata": {},
     "output_type": "execute_result"
    }
   ],
   "source": [
    "a = 1\n",
    "b = 2\n",
    "a\n",
    "b # 只有b的值会被输出"
   ]
  },
  {
   "cell_type": "code",
   "execution_count": null,
   "metadata": {},
   "outputs": [],
   "source": []
  },
  {
   "cell_type": "code",
   "execution_count": 29,
   "metadata": {},
   "outputs": [
    {
     "data": {
      "text/plain": [
       "2"
      ]
     },
     "execution_count": 29,
     "metadata": {},
     "output_type": "execute_result"
    }
   ],
   "source": [
    "# c 会默认输出\n",
    "c = 2\n",
    "c"
   ]
  },
  {
   "cell_type": "code",
   "execution_count": 30,
   "metadata": {},
   "outputs": [
    {
     "data": {
      "text/plain": [
       "1.4"
      ]
     },
     "execution_count": 30,
     "metadata": {},
     "output_type": "execute_result"
    }
   ],
   "source": [
    "# 只有e会被输出, 而d不会被输出\n",
    "d = 3\n",
    "e = 1.4\n",
    "d\n",
    "e"
   ]
  },
  {
   "cell_type": "markdown",
   "metadata": {},
   "source": [
    "### In[] Out[]中括号中的数字, 以及星号, 打断功能"
   ]
  },
  {
   "cell_type": "markdown",
   "metadata": {
    "collapsed": true
   },
   "source": [
    "In[]中的数字代表运行代码的次数.Out相同.\n",
    "\n",
    "星号\\*代表代码正在执行中, 可以使用打断操作中止代码执行."
   ]
  },
  {
   "cell_type": "code",
   "execution_count": null,
   "metadata": {},
   "outputs": [],
   "source": []
  },
  {
   "cell_type": "code",
   "execution_count": null,
   "metadata": {
    "collapsed": true
   },
   "outputs": [],
   "source": []
  },
  {
   "cell_type": "markdown",
   "metadata": {
    "collapsed": true
   },
   "source": [
    "# 内置函数"
   ]
  },
  {
   "cell_type": "markdown",
   "metadata": {},
   "source": [
    "函数: 函数在编程中是非常重要的概念, 计算机中函数是指一段可以直接被另一段程序或代码引用的程序或代码。\n",
    "\n",
    "这里只需要简单理解即可, 后面会详细学习~"
   ]
  },
  {
   "cell_type": "markdown",
   "metadata": {},
   "source": [
    "**内置函数:**\n",
    "\n",
    "编程语言中预先定义的函数的就是内置函数\n",
    "\n",
    "内置函数就是Python中天生自带的函数，\n",
    "\n",
    "使用起来是最方便的。"
   ]
  },
  {
   "cell_type": "markdown",
   "metadata": {},
   "source": [
    "## print函数"
   ]
  },
  {
   "cell_type": "markdown",
   "metadata": {},
   "source": [
    "print是向屏幕上输出指定的内容."
   ]
  },
  {
   "cell_type": "markdown",
   "metadata": {},
   "source": [
    "### 打印单个值, 打印空行"
   ]
  },
  {
   "cell_type": "code",
   "execution_count": 20,
   "metadata": {},
   "outputs": [
    {
     "name": "stdout",
     "output_type": "stream",
     "text": [
      "123\n",
      "246\n"
     ]
    }
   ],
   "source": [
    "a = 123\n",
    "print(a) # 执行函数要加括号\n",
    "print(a*2)"
   ]
  },
  {
   "cell_type": "code",
   "execution_count": 1,
   "metadata": {},
   "outputs": [
    {
     "name": "stdout",
     "output_type": "stream",
     "text": [
      "1234\n"
     ]
    }
   ],
   "source": [
    "a = 1234\n",
    "print(a)"
   ]
  },
  {
   "cell_type": "code",
   "execution_count": 21,
   "metadata": {},
   "outputs": [
    {
     "name": "stdout",
     "output_type": "stream",
     "text": [
      "你好啊\n"
     ]
    }
   ],
   "source": [
    "k = '你好啊'\n",
    "print(k)"
   ]
  },
  {
   "cell_type": "code",
   "execution_count": 22,
   "metadata": {},
   "outputs": [
    {
     "name": "stdout",
     "output_type": "stream",
     "text": [
      "9\n"
     ]
    }
   ],
   "source": [
    "# 直接打印表达式\n",
    "print(4+5)"
   ]
  },
  {
   "cell_type": "code",
   "execution_count": 23,
   "metadata": {},
   "outputs": [
    {
     "name": "stdout",
     "output_type": "stream",
     "text": [
      "3535\n"
     ]
    }
   ],
   "source": [
    "print(3535)"
   ]
  },
  {
   "cell_type": "markdown",
   "metadata": {},
   "source": [
    "查看帮助文档"
   ]
  },
  {
   "cell_type": "code",
   "execution_count": 24,
   "metadata": {},
   "outputs": [],
   "source": [
    "?print"
   ]
  },
  {
   "cell_type": "code",
   "execution_count": 37,
   "metadata": {},
   "outputs": [],
   "source": [
    "?print"
   ]
  },
  {
   "cell_type": "markdown",
   "metadata": {},
   "source": [
    "查看帮助文档快捷键: shift+tab"
   ]
  },
  {
   "cell_type": "code",
   "execution_count": null,
   "metadata": {},
   "outputs": [],
   "source": [
    "print()"
   ]
  },
  {
   "cell_type": "code",
   "execution_count": 25,
   "metadata": {},
   "outputs": [
    {
     "name": "stdout",
     "output_type": "stream",
     "text": [
      "123 666 你好\n"
     ]
    }
   ],
   "source": [
    "print(a, 666, '你好')"
   ]
  },
  {
   "cell_type": "code",
   "execution_count": 26,
   "metadata": {},
   "outputs": [
    {
     "name": "stdout",
     "output_type": "stream",
     "text": [
      "123----666----你好\n"
     ]
    }
   ],
   "source": [
    "print(a, 666, '你好', sep='----')"
   ]
  },
  {
   "cell_type": "code",
   "execution_count": 27,
   "metadata": {},
   "outputs": [
    {
     "name": "stdout",
     "output_type": "stream",
     "text": [
      "123 True 你好\n"
     ]
    }
   ],
   "source": [
    "a = 123\n",
    "b = True\n",
    "c = \"你好\"\n",
    "print(a , b , c) # 多个参数之间使用逗号进行分割"
   ]
  },
  {
   "cell_type": "code",
   "execution_count": 6,
   "metadata": {},
   "outputs": [
    {
     "name": "stdout",
     "output_type": "stream",
     "text": [
      "123======True======你好\n"
     ]
    }
   ],
   "source": [
    "print(a , b , c , sep='======')"
   ]
  },
  {
   "cell_type": "code",
   "execution_count": 28,
   "metadata": {},
   "outputs": [
    {
     "name": "stdout",
     "output_type": "stream",
     "text": [
      "123 True 你好--------->123 True 你好\n"
     ]
    }
   ],
   "source": [
    "# \\n  叫做换行符\n",
    "print(a,b,c, end='--------->')\n",
    "print(a,b,c )"
   ]
  },
  {
   "cell_type": "code",
   "execution_count": 45,
   "metadata": {},
   "outputs": [
    {
     "name": "stdout",
     "output_type": "stream",
     "text": [
      "123 True 你好 123 True 你好\n"
     ]
    }
   ],
   "source": [
    "print(a,b,c, end=' ')\n",
    "print(a,b,c )"
   ]
  },
  {
   "cell_type": "code",
   "execution_count": 29,
   "metadata": {},
   "outputs": [
    {
     "name": "stdout",
     "output_type": "stream",
     "text": [
      "如想要换行\n",
      "就这样\n"
     ]
    }
   ],
   "source": [
    "print('如想要换行\\n就这样')"
   ]
  },
  {
   "cell_type": "code",
   "execution_count": 35,
   "metadata": {},
   "outputs": [
    {
     "data": {
      "text/plain": [
       "2"
      ]
     },
     "execution_count": 35,
     "metadata": {},
     "output_type": "execute_result"
    }
   ],
   "source": [
    "a = 1\n",
    "b= 2\n",
    "a\n",
    "b"
   ]
  },
  {
   "cell_type": "code",
   "execution_count": null,
   "metadata": {},
   "outputs": [],
   "source": [
    "print()"
   ]
  },
  {
   "cell_type": "code",
   "execution_count": null,
   "metadata": {},
   "outputs": [],
   "source": []
  },
  {
   "cell_type": "markdown",
   "metadata": {},
   "source": [
    "### 小练习\n",
    "\n",
    "编写代码完成以下名片的显示\n",
    "```python\n",
    "==================================\n",
    "姓名: dongGe    \n",
    "QQ:xxxxxxxxxx\n",
    "手机号:131xxxxxx\n",
    "公司地址:北京市xxxx\n",
    "==================================\n",
    "```"
   ]
  },
  {
   "cell_type": "code",
   "execution_count": 31,
   "metadata": {},
   "outputs": [
    {
     "name": "stdout",
     "output_type": "stream",
     "text": [
      "==============================\n",
      "姓名: 杨悦\n",
      "手机号:131xxxxxx\n",
      "公司地址:北京市西二旗辉煌国际\n",
      "==============================\n"
     ]
    }
   ],
   "source": [
    "print('='*30)\n",
    "print('姓名: 杨悦')\n",
    "print('手机号:131xxxxxx')\n",
    "print('公司地址:北京市西二旗辉煌国际')\n",
    "print('='*30)"
   ]
  },
  {
   "cell_type": "markdown",
   "metadata": {},
   "source": [
    "***小题1：**  \n",
    "将以下字符串打印在同一行，用“-->”符号来分隔：  \n",
    "\"你是\"、\"人间的\"、\"四月天\""
   ]
  },
  {
   "cell_type": "code",
   "execution_count": 32,
   "metadata": {},
   "outputs": [
    {
     "name": "stdout",
     "output_type": "stream",
     "text": [
      "你是-->人间的-->四月天\n"
     ]
    }
   ],
   "source": [
    "print('你是', '人间的', '四月天', sep='-->')"
   ]
  },
  {
   "cell_type": "markdown",
   "metadata": {},
   "source": [
    "***小题2：**  \n",
    "用一个print()语句，分别将下面字符打印在不同的行：  \n",
    "\"你是人间的四月天\""
   ]
  },
  {
   "cell_type": "code",
   "execution_count": 33,
   "metadata": {},
   "outputs": [
    {
     "name": "stdout",
     "output_type": "stream",
     "text": [
      "你\n",
      "是\n",
      "人\n",
      "间\n",
      "的\n",
      "四\n",
      "月\n",
      "天\n"
     ]
    }
   ],
   "source": [
    "print(\"你\", \"是\", \"人\", \"间\", \"的\", \"四\", \"月\", \"天\", sep='\\n')"
   ]
  },
  {
   "cell_type": "markdown",
   "metadata": {},
   "source": [
    "***小题3：**  \n",
    "在不减少print()语句的前提下，通过增加下面的print()语句的参数，使得打印结果在同一行输出。    \n",
    "\n",
    "        print(\"你是\")  \n",
    "        print(\"人间的\")  \n",
    "        print(\"四月天\")  \n",
    " 输出结果显示：你是,人间的,四月天!  "
   ]
  },
  {
   "cell_type": "code",
   "execution_count": 34,
   "metadata": {},
   "outputs": [
    {
     "name": "stdout",
     "output_type": "stream",
     "text": [
      "你是,人间的,四月天\n"
     ]
    }
   ],
   "source": [
    "print(\"你是\", end=',')  \n",
    "print(\"人间的\", end=',')  \n",
    "print(\"四月天\")  "
   ]
  },
  {
   "cell_type": "code",
   "execution_count": 38,
   "metadata": {},
   "outputs": [],
   "source": [
    "print=('a')"
   ]
  },
  {
   "cell_type": "code",
   "execution_count": null,
   "metadata": {},
   "outputs": [],
   "source": [
    "a  = 1"
   ]
  },
  {
   "cell_type": "code",
   "execution_count": null,
   "metadata": {},
   "outputs": [],
   "source": [
    "b = 2"
   ]
  },
  {
   "cell_type": "code",
   "execution_count": null,
   "metadata": {},
   "outputs": [],
   "source": []
  },
  {
   "cell_type": "code",
   "execution_count": null,
   "metadata": {},
   "outputs": [],
   "source": []
  },
  {
   "cell_type": "code",
   "execution_count": 1,
   "metadata": {},
   "outputs": [
    {
     "name": "stdout",
     "output_type": "stream",
     "text": [
      "666\n"
     ]
    }
   ],
   "source": [
    "print(666)"
   ]
  },
  {
   "cell_type": "markdown",
   "metadata": {},
   "source": [
    "## python的注释功能"
   ]
  },
  {
   "cell_type": "markdown",
   "metadata": {},
   "source": [
    "注释就是对代码的解释和说明，其目的是让人们能够更加轻松地了解代码。\n",
    "\n",
    "注释是编程中非常重要的功能, 通过注释, 我们可以对代码中每一部分的功能,注意事项进行说明.\n",
    "\n",
    "既方便了开发人员以后回顾代码的功能逻辑, 也方便了其他人去阅读我们编写出来的代码."
   ]
  },
  {
   "cell_type": "markdown",
   "metadata": {},
   "source": [
    "Python中的注释可以分为**单行注释**和**多行注释**.\n",
    "\n",
    "**单行注释:**\n",
    "\n",
    "单行注释的方法就是在任意内容前边添加#, 则井号以后的内容都会成为注释.\n",
    "\n",
    "井号可以在一行开头使用, 也可以在代码之后使用.\n",
    "\n",
    "单行注释快捷键: ctrl + /\n",
    "\n",
    "通过这组快捷键我们可以在光标所在这一行开头添加一个#, 也可以选中多行, 然后使用快捷键批量添加注释, 非常方便.\n",
    "\n",
    "如下所示:"
   ]
  },
  {
   "cell_type": "code",
   "execution_count": null,
   "metadata": {},
   "outputs": [],
   "source": [
    "#然后就可以开始写注释了\n",
    "a = 1 # 把1赋值给变量a"
   ]
  },
  {
   "cell_type": "code",
   "execution_count": null,
   "metadata": {},
   "outputs": [],
   "source": [
    "a = 1\n",
    "b = 2\n",
    "a+b"
   ]
  },
  {
   "cell_type": "code",
   "execution_count": 30,
   "metadata": {
    "collapsed": true
   },
   "outputs": [],
   "source": [
    "# 单行注释\n",
    "# 就像这样了\n",
    "# 以#开头，#右边的所有东西当做说明，而不是真正要执行的程序，起辅助说明作用"
   ]
  },
  {
   "cell_type": "code",
   "execution_count": null,
   "metadata": {},
   "outputs": [],
   "source": [
    "# 井号后面的内容, \n",
    "a = 1 # 后面的这些, 注释"
   ]
  },
  {
   "cell_type": "markdown",
   "metadata": {},
   "source": [
    "**多行注释:**\n",
    "\n",
    "在我们想要写一大段内容去对模块的接口、数据的描述和模块的功能等进行说明时, 就可以使用多行注释.\n",
    "\n",
    "在Python中多行注释其实就是一个多行字符串, 使用三个引号包裹起来即可, 单引号和双引号都可以."
   ]
  },
  {
   "cell_type": "code",
   "execution_count": 2,
   "metadata": {},
   "outputs": [
    {
     "data": {
      "text/plain": [
       "'所扥所扥所扥的\\n所扥所扥所扥\\n森森扥三扥\\n三扥森三扥'"
      ]
     },
     "execution_count": 2,
     "metadata": {},
     "output_type": "execute_result"
    }
   ],
   "source": [
    "\"\"\"所扥所扥所扥的\n",
    "所扥所扥所扥\n",
    "森森扥三扥\n",
    "三扥森三扥\"\"\""
   ]
  },
  {
   "cell_type": "code",
   "execution_count": 9,
   "metadata": {},
   "outputs": [
    {
     "data": {
      "text/plain": [
       "'三个引号包裹起来的,\\n字符,\\n就叫做多行字符串\\n你好\\n'"
      ]
     },
     "execution_count": 9,
     "metadata": {},
     "output_type": "execute_result"
    }
   ],
   "source": [
    "\"\"\"三个引号包裹起来的,\n",
    "字符,\n",
    "就叫做多行字符串\n",
    "你好\n",
    "\"\"\""
   ]
  },
  {
   "cell_type": "code",
   "execution_count": 63,
   "metadata": {},
   "outputs": [
    {
     "data": {
      "text/plain": [
       "'三个引号包裹起来的,字符,就叫做多行字符串\\n森森所扥森森的\\n所扥所扥所扥所扥\\n'"
      ]
     },
     "execution_count": 63,
     "metadata": {},
     "output_type": "execute_result"
    }
   ],
   "source": [
    "a"
   ]
  },
  {
   "cell_type": "code",
   "execution_count": 10,
   "metadata": {},
   "outputs": [
    {
     "data": {
      "text/plain": [
       "'\\n多行注释\\n可以这样写\\n其实就是字符串, 只是没有进行操作\\n'"
      ]
     },
     "execution_count": 10,
     "metadata": {},
     "output_type": "execute_result"
    }
   ],
   "source": [
    "\"\"\"\n",
    "多行注释\n",
    "可以这样写\n",
    "其实就是字符串, 只是没有进行操作\n",
    "\"\"\"\n"
   ]
  },
  {
   "cell_type": "code",
   "execution_count": null,
   "metadata": {},
   "outputs": [],
   "source": []
  },
  {
   "cell_type": "markdown",
   "metadata": {},
   "source": [
    "## input文本输入框"
   ]
  },
  {
   "cell_type": "markdown",
   "metadata": {},
   "source": [
    "input()语句可以获取一个用户输入的字符串。"
   ]
  },
  {
   "cell_type": "code",
   "execution_count": 1,
   "metadata": {
    "collapsed": true
   },
   "outputs": [],
   "source": [
    "# input 获取一个用户输入的字符串, 查看文档, 有一个提示的参数"
   ]
  },
  {
   "cell_type": "code",
   "execution_count": 13,
   "metadata": {},
   "outputs": [],
   "source": [
    "啊 = 1"
   ]
  },
  {
   "cell_type": "code",
   "execution_count": 15,
   "metadata": {},
   "outputs": [
    {
     "data": {
      "text/plain": [
       "1"
      ]
     },
     "execution_count": 15,
     "metadata": {},
     "output_type": "execute_result"
    }
   ],
   "source": [
    "啊"
   ]
  },
  {
   "cell_type": "code",
   "execution_count": 16,
   "metadata": {},
   "outputs": [],
   "source": [
    "请输入您的年龄 = 1"
   ]
  },
  {
   "cell_type": "code",
   "execution_count": 17,
   "metadata": {},
   "outputs": [
    {
     "data": {
      "text/plain": [
       "1"
      ]
     },
     "execution_count": 17,
     "metadata": {},
     "output_type": "execute_result"
    }
   ],
   "source": [
    "请输入您的年龄"
   ]
  },
  {
   "cell_type": "code",
   "execution_count": 5,
   "metadata": {},
   "outputs": [
    {
     "name": "stdout",
     "output_type": "stream",
     "text": [
      "请输入您的年龄:55\n"
     ]
    }
   ],
   "source": [
    "s = input(\"请输入您的年龄\")"
   ]
  },
  {
   "cell_type": "code",
   "execution_count": 4,
   "metadata": {},
   "outputs": [
    {
     "data": {
      "text/plain": [
       "'33'"
      ]
     },
     "execution_count": 4,
     "metadata": {},
     "output_type": "execute_result"
    }
   ],
   "source": [
    "s"
   ]
  },
  {
   "cell_type": "code",
   "execution_count": null,
   "metadata": {},
   "outputs": [],
   "source": [
    "b =2"
   ]
  },
  {
   "cell_type": "code",
   "execution_count": 72,
   "metadata": {},
   "outputs": [
    {
     "name": "stdout",
     "output_type": "stream",
     "text": [
      "请您在这里输入用户名: user\n"
     ]
    }
   ],
   "source": [
    "a = input('请您在这里输入用户名: ')"
   ]
  },
  {
   "cell_type": "code",
   "execution_count": 73,
   "metadata": {},
   "outputs": [
    {
     "data": {
      "text/plain": [
       "'user'"
      ]
     },
     "execution_count": 73,
     "metadata": {},
     "output_type": "execute_result"
    }
   ],
   "source": [
    "a"
   ]
  },
  {
   "cell_type": "markdown",
   "metadata": {},
   "source": [
    "注意你输入的任何东西都会被当做字符串,就算你输入一个数字"
   ]
  },
  {
   "cell_type": "code",
   "execution_count": 6,
   "metadata": {},
   "outputs": [
    {
     "name": "stdout",
     "output_type": "stream",
     "text": [
      "请输入一个数字123\n"
     ]
    }
   ],
   "source": [
    "a = input('请输入一个数字')"
   ]
  },
  {
   "cell_type": "code",
   "execution_count": 8,
   "metadata": {},
   "outputs": [
    {
     "data": {
      "text/plain": [
       "'123'"
      ]
     },
     "execution_count": 8,
     "metadata": {},
     "output_type": "execute_result"
    }
   ],
   "source": [
    "a"
   ]
  },
  {
   "cell_type": "code",
   "execution_count": 10,
   "metadata": {},
   "outputs": [],
   "source": [
    "a = int(a)"
   ]
  },
  {
   "cell_type": "code",
   "execution_count": 11,
   "metadata": {},
   "outputs": [
    {
     "data": {
      "text/plain": [
       "123"
      ]
     },
     "execution_count": 11,
     "metadata": {},
     "output_type": "execute_result"
    }
   ],
   "source": [
    "a"
   ]
  },
  {
   "cell_type": "code",
   "execution_count": 12,
   "metadata": {},
   "outputs": [
    {
     "data": {
      "text/plain": [
       "223"
      ]
     },
     "execution_count": 12,
     "metadata": {},
     "output_type": "execute_result"
    }
   ],
   "source": [
    "a + 100"
   ]
  },
  {
   "cell_type": "code",
   "execution_count": 9,
   "metadata": {},
   "outputs": [
    {
     "data": {
      "text/plain": [
       "123"
      ]
     },
     "execution_count": 9,
     "metadata": {},
     "output_type": "execute_result"
    }
   ],
   "source": [
    "int('123')"
   ]
  },
  {
   "cell_type": "code",
   "execution_count": null,
   "metadata": {},
   "outputs": [],
   "source": []
  },
  {
   "cell_type": "code",
   "execution_count": 15,
   "metadata": {},
   "outputs": [],
   "source": [
    "# 类型的转换\n",
    "# int 把其他数据类型转换成整数型\n",
    "a = '123'\n",
    "b = int(a)"
   ]
  },
  {
   "cell_type": "code",
   "execution_count": 16,
   "metadata": {},
   "outputs": [
    {
     "data": {
      "text/plain": [
       "'123'"
      ]
     },
     "execution_count": 16,
     "metadata": {},
     "output_type": "execute_result"
    }
   ],
   "source": [
    "a"
   ]
  },
  {
   "cell_type": "code",
   "execution_count": 17,
   "metadata": {},
   "outputs": [
    {
     "data": {
      "text/plain": [
       "123"
      ]
     },
     "execution_count": 17,
     "metadata": {},
     "output_type": "execute_result"
    }
   ],
   "source": [
    "b"
   ]
  },
  {
   "cell_type": "code",
   "execution_count": 18,
   "metadata": {},
   "outputs": [
    {
     "data": {
      "text/plain": [
       "223"
      ]
     },
     "execution_count": 18,
     "metadata": {},
     "output_type": "execute_result"
    }
   ],
   "source": [
    "b + 100"
   ]
  },
  {
   "cell_type": "markdown",
   "metadata": {},
   "source": [
    "### 练习题\n",
    "\n",
    "使用input输入a,b,c 3个整数，计算a+b-c的结果, 并打印出来"
   ]
  },
  {
   "cell_type": "code",
   "execution_count": 2,
   "metadata": {},
   "outputs": [
    {
     "name": "stdout",
     "output_type": "stream",
     "text": [
      "输入一个整数a:10\n",
      "输入一个整数b:20\n",
      "输入一个整数b:30\n",
      "0\n"
     ]
    }
   ],
   "source": [
    "a = input('输入一个整数a:')\n",
    "b = input('输入一个整数b:')\n",
    "c = input('输入一个整数b:')\n",
    "d = int(a)\n",
    "e = int(b)\n",
    "f = int(c)\n",
    "print(d + e - f)"
   ]
  },
  {
   "cell_type": "code",
   "execution_count": 90,
   "metadata": {},
   "outputs": [
    {
     "name": "stdout",
     "output_type": "stream",
     "text": [
      "输入一个整数a:1\n",
      "输入一个整数b:2\n",
      "输入一个整数b:3\n",
      "0\n"
     ]
    }
   ],
   "source": [
    "a = input('输入一个整数a:')\n",
    "b = input('输入一个整数b:')\n",
    "c = input('输入一个整数b:')\n",
    "print( int(a) + int(b) - int(c) )"
   ]
  },
  {
   "cell_type": "code",
   "execution_count": 3,
   "metadata": {},
   "outputs": [
    {
     "name": "stdout",
     "output_type": "stream",
     "text": [
      "输入一个整数a:1\n",
      "输入一个整数b:2\n",
      "输入一个整数c:4\n",
      "-1\n"
     ]
    }
   ],
   "source": [
    "a = int( input('输入一个整数a:')  )   \n",
    "b = int(  input('输入一个整数b:') )   \n",
    "c = int(  input('输入一个整数c:') )   \n",
    "print(a + b - c)"
   ]
  },
  {
   "cell_type": "markdown",
   "metadata": {},
   "source": [
    "# 变量"
   ]
  },
  {
   "cell_type": "code",
   "execution_count": 8,
   "metadata": {},
   "outputs": [],
   "source": [
    "a = 'abc'\n",
    "a = 1"
   ]
  },
  {
   "cell_type": "code",
   "execution_count": 9,
   "metadata": {},
   "outputs": [
    {
     "data": {
      "text/plain": [
       "1"
      ]
     },
     "execution_count": 9,
     "metadata": {},
     "output_type": "execute_result"
    }
   ],
   "source": [
    "a"
   ]
  },
  {
   "cell_type": "code",
   "execution_count": 6,
   "metadata": {},
   "outputs": [],
   "source": [
    "q =1"
   ]
  },
  {
   "cell_type": "code",
   "execution_count": 7,
   "metadata": {},
   "outputs": [
    {
     "data": {
      "text/plain": [
       "1"
      ]
     },
     "execution_count": 7,
     "metadata": {},
     "output_type": "execute_result"
    }
   ],
   "source": [
    "q"
   ]
  },
  {
   "cell_type": "markdown",
   "metadata": {},
   "source": [
    "1. python是动态数据类型\n",
    "2. python中的变量不需要声明, 直接赋值就可以使用\n",
    "3. 变量在使用之前必须进行赋值\n",
    "4. Python会根据你赋给的值自动判断变量的数据类型\n",
    "      - 其实变量并没有什么类型\n",
    "      - 变量只是指向了一个内存地址, 内存地址中储存了我们的数据, 这个数据是具有数据类型的\n",
    "      - 变量可以重复赋值, 后面的值会覆盖前边的值\n",
    "      - 改变变量的值, 其实就是改变了变量指向的内存地址!"
   ]
  },
  {
   "cell_type": "markdown",
   "metadata": {},
   "source": [
    "**要理解变量,一定要理解数据在内存中的储存形式,变量只是一个对在内存中储存的某一个东西的指引**\n",
    "\n",
    "变量指引的位置可以变化,这是变量的值就会发生变化\n",
    "\n",
    "当我使用变量,实际上是相当于在使用变量指向的那个内存地址中的值."
   ]
  },
  {
   "cell_type": "markdown",
   "metadata": {},
   "source": [
    "## 变量的赋值"
   ]
  },
  {
   "cell_type": "markdown",
   "metadata": {
    "collapsed": true
   },
   "source": [
    "等号就代表赋值语句, 将一个值赋给一个变量"
   ]
  },
  {
   "cell_type": "code",
   "execution_count": 19,
   "metadata": {},
   "outputs": [],
   "source": [
    "a = 100"
   ]
  },
  {
   "cell_type": "markdown",
   "metadata": {
    "collapsed": true
   },
   "source": [
    "## 变量的命名规则"
   ]
  },
  {
   "cell_type": "markdown",
   "metadata": {
    "collapsed": true
   },
   "source": [
    "变量命名规则： \n",
    "\n",
    "1. 变量名的长度不受限制，但其中的字符必须是字母、数字、或者下划线_，而不能使用空格、连字符、标点符号、引号或其他字符。\n",
    "2. 变量名的第一个字符不能是数字，而必须是字母或下划线。\n",
    "3. Python区分大小写。\n",
    "4. 不能将Python关键字用作变量名。"
   ]
  },
  {
   "cell_type": "code",
   "execution_count": null,
   "metadata": {},
   "outputs": [],
   "source": [
    "a = 1\n",
    "b = 2"
   ]
  },
  {
   "cell_type": "code",
   "execution_count": 19,
   "metadata": {},
   "outputs": [],
   "source": [
    "today_lunch_money = 22"
   ]
  },
  {
   "cell_type": "code",
   "execution_count": null,
   "metadata": {},
   "outputs": [],
   "source": [
    "today_lunch_money"
   ]
  },
  {
   "cell_type": "code",
   "execution_count": 18,
   "metadata": {},
   "outputs": [
    {
     "name": "stdout",
     "output_type": "stream",
     "text": [
      "111===222---"
     ]
    }
   ],
   "source": [
    "# 代码补全功能, tab键\n",
    "print(111,222 , sep='===', end='---')"
   ]
  },
  {
   "cell_type": "code",
   "execution_count": null,
   "metadata": {},
   "outputs": [],
   "source": []
  },
  {
   "cell_type": "code",
   "execution_count": 13,
   "metadata": {},
   "outputs": [],
   "source": [
    "__a4_d3d = 2"
   ]
  },
  {
   "cell_type": "code",
   "execution_count": 101,
   "metadata": {},
   "outputs": [],
   "source": [
    "Abc123 = 1"
   ]
  },
  {
   "cell_type": "code",
   "execution_count": 102,
   "metadata": {},
   "outputs": [
    {
     "data": {
      "text/plain": [
       "1"
      ]
     },
     "execution_count": 102,
     "metadata": {},
     "output_type": "execute_result"
    }
   ],
   "source": [
    "Abc123"
   ]
  },
  {
   "cell_type": "code",
   "execution_count": 20,
   "metadata": {},
   "outputs": [],
   "source": [
    "get_student_gender_info = \"xxxxxx\""
   ]
  },
  {
   "cell_type": "code",
   "execution_count": 21,
   "metadata": {},
   "outputs": [],
   "source": [
    "__hello = 1"
   ]
  },
  {
   "cell_type": "code",
   "execution_count": 22,
   "metadata": {},
   "outputs": [
    {
     "data": {
      "text/plain": [
       "1"
      ]
     },
     "execution_count": 22,
     "metadata": {},
     "output_type": "execute_result"
    }
   ],
   "source": [
    "__hello"
   ]
  },
  {
   "cell_type": "code",
   "execution_count": 23,
   "metadata": {},
   "outputs": [
    {
     "data": {
      "text/plain": [
       "'__main__'"
      ]
     },
     "execution_count": 23,
     "metadata": {},
     "output_type": "execute_result"
    }
   ],
   "source": [
    "__name__"
   ]
  },
  {
   "cell_type": "code",
   "execution_count": 24,
   "metadata": {},
   "outputs": [],
   "source": [
    "_ = '1234'"
   ]
  },
  {
   "cell_type": "code",
   "execution_count": 115,
   "metadata": {},
   "outputs": [],
   "source": [
    "_12334_heloop0 = 1"
   ]
  },
  {
   "cell_type": "code",
   "execution_count": null,
   "metadata": {},
   "outputs": [],
   "source": [
    "a"
   ]
  },
  {
   "cell_type": "markdown",
   "metadata": {},
   "source": [
    "** 练习: 看一下, 以下哪个变量是错误的 **\n",
    "\n",
    "```python\n",
    "\n",
    "A. _above_ = 2\n",
    "\n",
    "B. 5abc = 1\n",
    "\n",
    "C. _5def__ = 3\n",
    "\n",
    "D. __init__ = 'abc'\n",
    "\n",
    "E. letgo = 1\n",
    "\n",
    "F. AbCdEf8 = 4\n",
    "\n",
    "G. I Likeyou = 1\n",
    "\n",
    "H. I`maboy = 4\n",
    "\n",
    "\n",
    "\n",
    "\n",
    "```"
   ]
  },
  {
   "cell_type": "code",
   "execution_count": null,
   "metadata": {
    "collapsed": true
   },
   "outputs": [],
   "source": []
  },
  {
   "cell_type": "code",
   "execution_count": null,
   "metadata": {
    "collapsed": true
   },
   "outputs": [],
   "source": []
  },
  {
   "cell_type": "code",
   "execution_count": null,
   "metadata": {
    "collapsed": true
   },
   "outputs": [],
   "source": []
  },
  {
   "cell_type": "markdown",
   "metadata": {},
   "source": [
    "## 内部保留关键字"
   ]
  },
  {
   "cell_type": "code",
   "execution_count": 27,
   "metadata": {},
   "outputs": [],
   "source": [
    "import keyword"
   ]
  },
  {
   "cell_type": "code",
   "execution_count": 28,
   "metadata": {},
   "outputs": [
    {
     "name": "stdout",
     "output_type": "stream",
     "text": [
      "['False', 'None', 'True', 'and', 'as', 'assert', 'async', 'await', 'break', 'class', 'continue', 'def', 'del', 'elif', 'else', 'except', 'finally', 'for', 'from', 'global', 'if', 'import', 'in', 'is', 'lambda', 'nonlocal', 'not', 'or', 'pass', 'raise', 'return', 'try', 'while', 'with', 'yield']\n"
     ]
    }
   ],
   "source": [
    "print(keyword.kwlist )"
   ]
  },
  {
   "cell_type": "code",
   "execution_count": 23,
   "metadata": {},
   "outputs": [
    {
     "ename": "SyntaxError",
     "evalue": "invalid syntax (<ipython-input-23-a3fd417c5b1e>, line 1)",
     "output_type": "error",
     "traceback": [
      "\u001B[1;36m  File \u001B[1;32m\"<ipython-input-23-a3fd417c5b1e>\"\u001B[1;36m, line \u001B[1;32m1\u001B[0m\n\u001B[1;33m    and = 1\u001B[0m\n\u001B[1;37m      ^\u001B[0m\n\u001B[1;31mSyntaxError\u001B[0m\u001B[1;31m:\u001B[0m invalid syntax\n"
     ]
    }
   ],
   "source": [
    "and = 1"
   ]
  },
  {
   "cell_type": "markdown",
   "metadata": {},
   "source": [
    "### 已存在函数名"
   ]
  },
  {
   "cell_type": "code",
   "execution_count": 30,
   "metadata": {},
   "outputs": [
    {
     "data": {
      "text/plain": [
       "344"
      ]
     },
     "execution_count": 30,
     "metadata": {},
     "output_type": "execute_result"
    }
   ],
   "source": [
    "int('344')"
   ]
  },
  {
   "cell_type": "code",
   "execution_count": 31,
   "metadata": {},
   "outputs": [],
   "source": [
    "int = 666"
   ]
  },
  {
   "cell_type": "code",
   "execution_count": 32,
   "metadata": {
    "scrolled": true
   },
   "outputs": [
    {
     "data": {
      "text/plain": [
       "666"
      ]
     },
     "execution_count": 32,
     "metadata": {},
     "output_type": "execute_result"
    }
   ],
   "source": [
    "int"
   ]
  },
  {
   "cell_type": "code",
   "execution_count": 33,
   "metadata": {},
   "outputs": [
    {
     "ename": "TypeError",
     "evalue": "'int' object is not callable",
     "output_type": "error",
     "traceback": [
      "\u001B[0;31m---------------------------------------------------------------------------\u001B[0m",
      "\u001B[0;31mTypeError\u001B[0m                                 Traceback (most recent call last)",
      "\u001B[0;32m<ipython-input-33-781fd3db216c>\u001B[0m in \u001B[0;36m<module>\u001B[0;34m\u001B[0m\n\u001B[0;32m----> 1\u001B[0;31m \u001B[0mint\u001B[0m\u001B[0;34m(\u001B[0m\u001B[0;34m'344'\u001B[0m\u001B[0;34m)\u001B[0m\u001B[0;34m\u001B[0m\u001B[0;34m\u001B[0m\u001B[0m\n\u001B[0m",
      "\u001B[0;31mTypeError\u001B[0m: 'int' object is not callable"
     ]
    }
   ],
   "source": [
    "int('344')"
   ]
  },
  {
   "cell_type": "code",
   "execution_count": null,
   "metadata": {},
   "outputs": [],
   "source": []
  },
  {
   "cell_type": "code",
   "execution_count": null,
   "metadata": {},
   "outputs": [],
   "source": []
  },
  {
   "cell_type": "code",
   "execution_count": 20,
   "metadata": {},
   "outputs": [],
   "source": [
    "int = 123"
   ]
  },
  {
   "cell_type": "code",
   "execution_count": 21,
   "metadata": {},
   "outputs": [
    {
     "data": {
      "text/plain": [
       "123"
      ]
     },
     "execution_count": 21,
     "metadata": {},
     "output_type": "execute_result"
    }
   ],
   "source": [
    "int"
   ]
  },
  {
   "cell_type": "code",
   "execution_count": 22,
   "metadata": {},
   "outputs": [
    {
     "ename": "TypeError",
     "evalue": "'int' object is not callable",
     "output_type": "error",
     "traceback": [
      "\u001B[0;31m---------------------------------------------------------------------------\u001B[0m",
      "\u001B[0;31mTypeError\u001B[0m                                 Traceback (most recent call last)",
      "\u001B[0;32m<ipython-input-22-ba4138565acc>\u001B[0m in \u001B[0;36m<module>\u001B[0;34m\u001B[0m\n\u001B[0;32m----> 1\u001B[0;31m \u001B[0mint\u001B[0m\u001B[0;34m(\u001B[0m\u001B[0;34m'567'\u001B[0m\u001B[0;34m)\u001B[0m\u001B[0;34m\u001B[0m\u001B[0;34m\u001B[0m\u001B[0m\n\u001B[0m",
      "\u001B[0;31mTypeError\u001B[0m: 'int' object is not callable"
     ]
    }
   ],
   "source": [
    "int('567')"
   ]
  },
  {
   "cell_type": "code",
   "execution_count": null,
   "metadata": {
    "collapsed": true
   },
   "outputs": [],
   "source": []
  },
  {
   "cell_type": "markdown",
   "metadata": {},
   "source": [
    "## 同时为多个变量赋值"
   ]
  },
  {
   "cell_type": "code",
   "execution_count": 34,
   "metadata": {},
   "outputs": [],
   "source": [
    "a = b = c = \"可以\"   # 这种方法可以的, 不十分推荐"
   ]
  },
  {
   "cell_type": "code",
   "execution_count": 35,
   "metadata": {},
   "outputs": [
    {
     "data": {
      "text/plain": [
       "'可以'"
      ]
     },
     "execution_count": 35,
     "metadata": {},
     "output_type": "execute_result"
    }
   ],
   "source": [
    "a"
   ]
  },
  {
   "cell_type": "code",
   "execution_count": 36,
   "metadata": {},
   "outputs": [
    {
     "data": {
      "text/plain": [
       "'可以'"
      ]
     },
     "execution_count": 36,
     "metadata": {},
     "output_type": "execute_result"
    }
   ],
   "source": [
    "b"
   ]
  },
  {
   "cell_type": "code",
   "execution_count": null,
   "metadata": {},
   "outputs": [],
   "source": []
  },
  {
   "cell_type": "code",
   "execution_count": 37,
   "metadata": {},
   "outputs": [],
   "source": [
    "a, b , c = 1,2,3 # 这种语法比较常用"
   ]
  },
  {
   "cell_type": "code",
   "execution_count": 38,
   "metadata": {},
   "outputs": [
    {
     "data": {
      "text/plain": [
       "1"
      ]
     },
     "execution_count": 38,
     "metadata": {},
     "output_type": "execute_result"
    }
   ],
   "source": [
    "a"
   ]
  },
  {
   "cell_type": "code",
   "execution_count": 39,
   "metadata": {},
   "outputs": [
    {
     "data": {
      "text/plain": [
       "2"
      ]
     },
     "execution_count": 39,
     "metadata": {},
     "output_type": "execute_result"
    }
   ],
   "source": [
    "b"
   ]
  },
  {
   "cell_type": "code",
   "execution_count": 40,
   "metadata": {},
   "outputs": [
    {
     "data": {
      "text/plain": [
       "3"
      ]
     },
     "execution_count": 40,
     "metadata": {},
     "output_type": "execute_result"
    }
   ],
   "source": [
    "c"
   ]
  },
  {
   "cell_type": "code",
   "execution_count": 27,
   "metadata": {},
   "outputs": [],
   "source": [
    "# 交换两个变量的值\n",
    "a = 1\n",
    "b = 2\n",
    "a,b = b,a"
   ]
  },
  {
   "cell_type": "code",
   "execution_count": null,
   "metadata": {
    "collapsed": true
   },
   "outputs": [],
   "source": []
  }
 ],
 "metadata": {
  "kernelspec": {
   "display_name": "Python 3",
   "language": "python",
   "name": "python3"
  },
  "language_info": {
   "codemirror_mode": {
    "name": "ipython",
    "version": 3
   },
   "file_extension": ".py",
   "mimetype": "text/x-python",
   "name": "python",
   "nbconvert_exporter": "python",
   "pygments_lexer": "ipython3",
   "version": "3.7.4"
  },
  "nbTranslate": {
   "displayLangs": [
    "en"
   ],
   "hotkey": "alt-t",
   "langInMainMenu": true,
   "sourceLang": "ch",
   "targetLang": "en",
   "useGoogleTranslate": true
  },
  "toc": {
   "base_numbering": 1,
   "nav_menu": {
    "height": "398px",
    "width": "291px"
   },
   "number_sections": true,
   "sideBar": true,
   "skip_h1_title": false,
   "title_cell": "Table of Contents",
   "title_sidebar": "Contents",
   "toc_cell": true,
   "toc_position": {
    "height": "calc(100% - 180px)",
    "left": "10px",
    "top": "150px",
    "width": "165px"
   },
   "toc_section_display": true,
   "toc_window_display": true
  },
  "varInspector": {
   "cols": {
    "lenName": 16,
    "lenType": 16,
    "lenVar": 40
   },
   "kernels_config": {
    "python": {
     "delete_cmd_postfix": "",
     "delete_cmd_prefix": "del ",
     "library": "var_list.py",
     "varRefreshCmd": "print(var_dic_list())"
    },
    "r": {
     "delete_cmd_postfix": ") ",
     "delete_cmd_prefix": "rm(",
     "library": "var_list.r",
     "varRefreshCmd": "cat(var_dic_list()) "
    }
   },
   "types_to_exclude": [
    "module",
    "function",
    "builtin_function_or_method",
    "instance",
    "_Feature"
   ],
   "window_display": false
  }
 },
 "nbformat": 4,
 "nbformat_minor": 2
}