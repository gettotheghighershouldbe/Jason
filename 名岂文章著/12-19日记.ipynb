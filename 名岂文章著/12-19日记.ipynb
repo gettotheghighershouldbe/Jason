{
 "cells": [
  {
   "cell_type": "markdown",
   "metadata": {
    "collapsed": true,
    "pycharm": {
     "name": "#%% md\n"
    }
   },
   "source": [
    "# 12-19日记\n",
    "今天开始完全的用这个pycharm这个平台进行所有的操作。\n",
    "\n",
    "主要在上面有四个任务：\n",
    "\n",
    "1.学会Python\n",
    "\n",
    "2.学会数据分析\n",
    "\n",
    "3.写每天的复盘日记\n",
    "\n",
    "4.分析彩票双色球，大乐透\n",
    "\n",
    "今天是第一天，先试试吧。最主要是真的想用一个软件就把所有的功能都搞定。\n",
    "\n"
   ]
  }
 ],
 "metadata": {
  "kernelspec": {
   "display_name": "Python 3",
   "language": "python",
   "name": "python3"
  },
  "language_info": {
   "codemirror_mode": {
    "name": "ipython",
    "version": 2
   },
   "file_extension": ".py",
   "mimetype": "text/x-python",
   "name": "python",
   "nbconvert_exporter": "python",
   "pygments_lexer": "ipython2",
   "version": "2.7.6"
  }
 },
 "nbformat": 4,
 "nbformat_minor": 0
}